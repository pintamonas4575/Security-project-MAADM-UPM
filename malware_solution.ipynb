{
 "cells": [
  {
   "cell_type": "markdown",
   "metadata": {},
   "source": [
    "# Seguridad y Privacidad de los Datos - 2024/25"
   ]
  },
  {
   "cell_type": "code",
   "execution_count": 1,
   "metadata": {},
   "outputs": [],
   "source": [
    "import random\n",
    "import copy\n",
    "import time\n",
    "import torch\n",
    "import numpy as np\n",
    "import pandas as pd\n",
    "import onnxruntime as rt\n",
    "import xgboost as xgb\n",
    "import seaborn as sns\n",
    "import matplotlib.pyplot as plt\n",
    "from torch import nn\n",
    "from tqdm import tqdm\n",
    "from torch.utils.data import DataLoader, Dataset\n",
    "from sklearn.model_selection import train_test_split\n",
    "from sklearn.metrics import classification_report, confusion_matrix, accuracy_score"
   ]
  },
  {
   "cell_type": "code",
   "execution_count": 2,
   "metadata": {},
   "outputs": [
    {
     "name": "stdout",
     "output_type": "stream",
     "text": [
      "Using device: cuda\n"
     ]
    }
   ],
   "source": [
    "device = \"cuda\" if torch.cuda.is_available() else \"cpu\"\n",
    "print(\"Using device:\", device)\n",
    "\n",
    "df = pd.read_csv('data/malware_dataset.csv')\n",
    "df = df.drop([\"timestamp\", 'unused_permissions', \"sha256\"], axis=1)\n",
    "\n",
    "X_train, X_test, y_train, y_test = train_test_split(df.drop('label', axis=1), df['label'], test_size=0.1, random_state=42)"
   ]
  },
  {
   "cell_type": "code",
   "execution_count": 3,
   "metadata": {},
   "outputs": [],
   "source": [
    "# from ydata_profiling import ProfileReport\n",
    "\n",
    "# df = pd.read_csv('malware_dataset.csv')\n",
    "# profile = ProfileReport(df, title='Malware Dataset Report')\n",
    "# profile.to_file(\"malware_report.html\")"
   ]
  },
  {
   "cell_type": "markdown",
   "metadata": {},
   "source": [
    "# 0. Train the model on the provided dataset"
   ]
  },
  {
   "cell_type": "markdown",
   "metadata": {},
   "source": [
    "## **XGBoost**"
   ]
  },
  {
   "cell_type": "code",
   "execution_count": 4,
   "metadata": {},
   "outputs": [
    {
     "name": "stdout",
     "output_type": "stream",
     "text": [
      "Accuracy:  0.9806083145172002\n",
      "              precision    recall  f1-score   support\n",
      "\n",
      "           0       0.99      0.99      0.99      6763\n",
      "           1       0.93      0.87      0.90       766\n",
      "\n",
      "    accuracy                           0.98      7529\n",
      "   macro avg       0.96      0.93      0.95      7529\n",
      "weighted avg       0.98      0.98      0.98      7529\n",
      "\n"
     ]
    },
    {
     "data": {
      "image/png": "[encoded data removed]",
      "text/plain": [
       "<Figure size 800x400 with 2 Axes>"
      ]
     },
     "metadata": {},
     "output_type": "display_data"
    }
   ],
   "source": [
    "# params: https://xgboost.readthedocs.io/en/stable/python/python_api.html#xgboost.XGBClassifier\n",
    "xgboost_model = xgb.XGBClassifier(objective='binary:logistic')\n",
    "\n",
    "xgboost_model.fit(X_train, y_train)\n",
    "y_pred = xgboost_model.predict(X_test)\n",
    "\n",
    "print(\"Accuracy: \", accuracy_score(y_test, y_pred))\n",
    "print(classification_report(y_test, y_pred))\n",
    "cm = confusion_matrix(y_test, y_pred)\n",
    "plt.figure(figsize=(8,4))\n",
    "sns.heatmap(cm, annot=True, fmt='d', cmap='Blues')\n",
    "plt.xlabel('Predicted Labels')\n",
    "plt.ylabel('True Labels')\n",
    "plt.title('Confusion Matrix')\n",
    "plt.show()\n",
    "\n",
    "xgboost_model.save_model('malware_xgboost_model.json')"
   ]
  },
  {
   "cell_type": "code",
   "execution_count": 5,
   "metadata": {},
   "outputs": [
    {
     "name": "stdout",
     "output_type": "stream",
     "text": [
      "Accuracy:  0.9806083145172002\n"
     ]
    }
   ],
   "source": [
    "# Test model\n",
    "test_xgboost_model = xgb.XGBClassifier()\n",
    "test_xgboost_model.load_model('malware_xgboost_model.json')\n",
    "\n",
    "y_pred2 = xgboost_model.predict(X_test)\n",
    "print(\"Accuracy: \", accuracy_score(y_test, y_pred2))"
   ]
  },
  {
   "cell_type": "markdown",
   "metadata": {},
   "source": [
    "## **Neural Network**"
   ]
  },
  {
   "cell_type": "code",
   "execution_count": 7,
   "metadata": {},
   "outputs": [],
   "source": [
    "class Model(nn.Module):\n",
    "    def __init__(self):\n",
    "        super(Model, self).__init__()\n",
    "        self.fc1 = nn.Linear(354, 64)\n",
    "        self.fc2 = nn.Linear(64, 2)\n",
    "        self.relu = nn.ReLU()\n",
    "    def forward(self, x):\n",
    "        x = self.fc1(x)\n",
    "        x = self.relu(x)\n",
    "        x = self.fc2(x)\n",
    "        return x\n",
    "class CustomDataset(Dataset):\n",
    "    def __init__(self, data, labels):\n",
    "        self.data = data\n",
    "        self.labels = labels\n",
    "\n",
    "    def __len__(self):\n",
    "        return len(self.data)\n",
    "\n",
    "    def __getitem__(self, idx):\n",
    "        return torch.tensor(self.data[idx], dtype=torch.float32), torch.tensor(self.labels[idx], dtype=torch.long)\n",
    "\n",
    "model = Model().to(device)\n",
    "dataloader_train = DataLoader(CustomDataset(X_train.values, y_train.values), batch_size=64, shuffle=True)\n",
    "dataloader_test = DataLoader(CustomDataset(X_test.values, y_test.values), batch_size=64, shuffle=False)"
   ]
  },
  {
   "cell_type": "code",
   "execution_count": null,
   "metadata": {},
   "outputs": [
    {
     "name": "stderr",
     "output_type": "stream",
     "text": [
      "Training: 100%|██████████| 1059/1059 [00:04<00:00, 232.05it/s]\n",
      "Testing: 100%|██████████| 118/118 [00:00<00:00, 327.11it/s]\n"
     ]
    },
    {
     "name": "stdout",
     "output_type": "stream",
     "text": [
      "Epoch 1/10, Accuracy: 95.90%\n"
     ]
    },
    {
     "name": "stderr",
     "output_type": "stream",
     "text": [
      "Training: 100%|██████████| 1059/1059 [00:04<00:00, 242.18it/s]\n",
      "Testing: 100%|██████████| 118/118 [00:00<00:00, 328.60it/s]\n"
     ]
    },
    {
     "name": "stdout",
     "output_type": "stream",
     "text": [
      "Epoch 2/10, Accuracy: 95.58%\n"
     ]
    },
    {
     "name": "stderr",
     "output_type": "stream",
     "text": [
      "Training: 100%|██████████| 1059/1059 [00:04<00:00, 248.82it/s]\n",
      "Testing: 100%|██████████| 118/118 [00:00<00:00, 373.41it/s]\n"
     ]
    },
    {
     "name": "stdout",
     "output_type": "stream",
     "text": [
      "Epoch 3/10, Accuracy: 96.28%\n"
     ]
    },
    {
     "name": "stderr",
     "output_type": "stream",
     "text": [
      "Training: 100%|██████████| 1059/1059 [00:04<00:00, 256.44it/s]\n",
      "Testing: 100%|██████████| 118/118 [00:00<00:00, 323.59it/s]\n"
     ]
    },
    {
     "name": "stdout",
     "output_type": "stream",
     "text": [
      "Epoch 4/10, Accuracy: 96.39%\n"
     ]
    },
    {
     "name": "stderr",
     "output_type": "stream",
     "text": [
      "Training: 100%|██████████| 1059/1059 [00:04<00:00, 258.59it/s]\n",
      "Testing: 100%|██████████| 118/118 [00:00<00:00, 539.93it/s]\n"
     ]
    },
    {
     "name": "stdout",
     "output_type": "stream",
     "text": [
      "Epoch 5/10, Accuracy: 96.53%\n"
     ]
    },
    {
     "name": "stderr",
     "output_type": "stream",
     "text": [
      "Training: 100%|██████████| 1059/1059 [00:03<00:00, 288.22it/s]\n",
      "Testing: 100%|██████████| 118/118 [00:00<00:00, 568.56it/s]\n"
     ]
    },
    {
     "name": "stdout",
     "output_type": "stream",
     "text": [
      "Epoch 6/10, Accuracy: 96.63%\n"
     ]
    },
    {
     "name": "stderr",
     "output_type": "stream",
     "text": [
      "Training: 100%|██████████| 1059/1059 [00:03<00:00, 291.58it/s]\n",
      "Testing: 100%|██████████| 118/118 [00:00<00:00, 531.85it/s]\n"
     ]
    },
    {
     "name": "stdout",
     "output_type": "stream",
     "text": [
      "Epoch 7/10, Accuracy: 96.60%\n"
     ]
    },
    {
     "name": "stderr",
     "output_type": "stream",
     "text": [
      "Training: 100%|██████████| 1059/1059 [00:03<00:00, 296.55it/s]\n",
      "Testing: 100%|██████████| 118/118 [00:00<00:00, 521.30it/s]\n"
     ]
    },
    {
     "name": "stdout",
     "output_type": "stream",
     "text": [
      "Epoch 8/10, Accuracy: 96.61%\n"
     ]
    },
    {
     "name": "stderr",
     "output_type": "stream",
     "text": [
      "Training: 100%|██████████| 1059/1059 [00:03<00:00, 282.87it/s]\n",
      "Testing: 100%|██████████| 118/118 [00:00<00:00, 551.16it/s]\n"
     ]
    },
    {
     "name": "stdout",
     "output_type": "stream",
     "text": [
      "Epoch 9/10, Accuracy: 96.67%\n"
     ]
    },
    {
     "name": "stderr",
     "output_type": "stream",
     "text": [
      "Training: 100%|██████████| 1059/1059 [00:03<00:00, 278.03it/s]\n",
      "Testing: 100%|██████████| 118/118 [00:00<00:00, 497.03it/s]"
     ]
    },
    {
     "name": "stdout",
     "output_type": "stream",
     "text": [
      "Epoch 10/10, Accuracy: 96.98%\n"
     ]
    },
    {
     "name": "stderr",
     "output_type": "stream",
     "text": [
      "\n"
     ]
    }
   ],
   "source": [
    "EPOCHS = 10\n",
    "optimizer = torch.optim.Adam(model.parameters(), lr=0.001)\n",
    "criterion = nn.CrossEntropyLoss()\n",
    "for epoch in range(EPOCHS):\n",
    "    model.train()\n",
    "    for data, labels in tqdm(dataloader_train, desc=\"Training\", total=len(dataloader_train)):\n",
    "        optimizer.zero_grad()\n",
    "        data, labels = data.to(device), labels.to(device)\n",
    "        outputs = model(data)\n",
    "        loss = criterion(outputs, labels)\n",
    "        loss.backward()\n",
    "        optimizer.step()\n",
    "\n",
    "    correct = 0\n",
    "    total = 0\n",
    "    for data, labels in tqdm(dataloader_test, desc=\"Testing\", total=len(dataloader_test)):\n",
    "        data, labels = data.to(device), labels.to(device)\n",
    "        outputs = model(data)\n",
    "        loss = criterion(outputs, labels)\n",
    "        _, predicted = torch.max(outputs.data, 1)\n",
    "        correct += (predicted == labels).sum().item()\n",
    "        total += labels.size(0)\n",
    "    print(f\"Epoch {epoch+1}/{EPOCHS}, Accuracy: {100 * correct / total:.2f}%\")"
   ]
  },
  {
   "cell_type": "code",
   "execution_count": 8,
   "metadata": {},
   "outputs": [],
   "source": [
    "# torch.save(model, 'malware_NN_model.pt')\n",
    "model = torch.load('malware_NN_model.pt', weights_only=False)"
   ]
  },
  {
   "cell_type": "code",
   "execution_count": 9,
   "metadata": {},
   "outputs": [
    {
     "name": "stdout",
     "output_type": "stream",
     "text": [
      "              precision    recall  f1-score   support\n",
      "\n",
      "           0       0.98      0.99      0.98      6763\n",
      "           1       0.89      0.80      0.84       766\n",
      "\n",
      "    accuracy                           0.97      7529\n",
      "   macro avg       0.94      0.89      0.91      7529\n",
      "weighted avg       0.97      0.97      0.97      7529\n",
      "\n"
     ]
    },
    {
     "data": {
      "image/png": "[encoded data removed]",
      "text/plain": [
       "<Figure size 800x400 with 2 Axes>"
      ]
     },
     "metadata": {},
     "output_type": "display_data"
    }
   ],
   "source": [
    "test = X_test.copy()\n",
    "test= np.array(test)\n",
    "\n",
    "test = torch.tensor(test, dtype=torch.float32).to(device)\n",
    "predictions = model(test.to(device))\n",
    "predictions = torch.argmax(predictions, dim=1)\n",
    "predictions = predictions.cpu().numpy()\n",
    "\n",
    "print(classification_report(y_test, predictions))\n",
    "cm = confusion_matrix(y_test, predictions)\n",
    "plt.figure(figsize=(8,4))\n",
    "sns.heatmap(cm, annot=True, fmt='d', cmap='Blues')\n",
    "plt.xlabel('Predicted Labels')\n",
    "plt.ylabel('True Labels')\n",
    "plt.title('Confusion Matrix')\n",
    "plt.show()"
   ]
  },
  {
   "cell_type": "markdown",
   "metadata": {},
   "source": [
    "# 1. Perform at least one black-box attack and one white-box attack on the model. You may perform additional attacks as desired."
   ]
  },
  {
   "cell_type": "markdown",
   "metadata": {},
   "source": [
    "## **Black box attack**"
   ]
  },
  {
   "cell_type": "code",
   "execution_count": 95,
   "metadata": {},
   "outputs": [
    {
     "name": "stdout",
     "output_type": "stream",
     "text": [
      "Accuracy: 0.9923111045394056\n"
     ]
    }
   ],
   "source": [
    "test_xgboost_model = xgb.XGBClassifier()\n",
    "test_xgboost_model.load_model('malware_xgboost_model.json')\n",
    "x_no_attack = X_test[y_test == 0]\n",
    "y_no_attack = y_test[y_test == 0]\n",
    "\n",
    "ypred = test_xgboost_model.predict(np.array(x_no_attack))\n",
    "ypred = [1 if x > 0.5 else 0 for x in ypred]\n",
    "print(f\"Accuracy: {accuracy_score(y_no_attack, ypred)}\")"
   ]
  },
  {
   "cell_type": "code",
   "execution_count": 17,
   "metadata": {},
   "outputs": [
    {
     "name": "stderr",
     "output_type": "stream",
     "text": [
      "Iterating over activities count: 100%|██████████| 1999/1999 [01:14<00:00, 26.73it/s]\n"
     ]
    }
   ],
   "source": [
    "lista = []\n",
    "\n",
    "for i in tqdm(range(1,2000), desc='Iterating over activities count'):\n",
    "    no_attacks_changed = x_no_attack.copy()\n",
    "    no_attacks_changed['activities_count'] = i\n",
    "    ypred = test_xgboost_model.predict(np.array(x_no_attack))\n",
    "    ypred = [1 if x > 0.5 else 0 for x in ypred]\n",
    "    lista.append(accuracy_score(y_no_attack, ypred))"
   ]
  },
  {
   "cell_type": "code",
   "execution_count": 96,
   "metadata": {},
   "outputs": [
    {
     "name": "stdout",
     "output_type": "stream",
     "text": [
      "Num gen: 0, Fitness óptimo: 0.13428078098020985\n",
      "Mejor individuo: [3, 94, 64, 6, 98, 75, 4, 71]\n",
      "Num gen: 1, Fitness óptimo: 0.13428078098020985\n",
      "Mejor individuo: [3, 94, 64, 6, 98, 75, 4, 71]\n",
      "Num gen: 2, Fitness óptimo: 0.13428078098020985\n",
      "Mejor individuo: [3, 94, 64, 6, 98, 75, 4, 71]\n",
      "Num gen: 3, Fitness óptimo: 0.13428078098020985\n",
      "Mejor individuo: [3, 94, 64, 6, 98, 75, 4, 71]\n",
      "Num gen: 4, Fitness óptimo: 0.13428078098020985\n",
      "Mejor individuo: [3, 94, 64, 6, 98, 75, 4, 71]\n",
      "Num gen: 5, Fitness óptimo: 0.13428078098020985\n",
      "Mejor individuo: [3, 94, 64, 6, 98, 75, 4, 71]\n",
      "Num gen: 6, Fitness óptimo: 0.11940496745915792\n",
      "Mejor individuo: [3, 75, 64, 6, 98, 94, 4, 71]\n",
      "Num gen: 7, Fitness óptimo: 0.11940496745915792\n",
      "Mejor individuo: [3, 75, 64, 6, 98, 94, 4, 71]\n",
      "Num gen: 8, Fitness óptimo: 0.11940496745915792\n",
      "Mejor individuo: [3, 75, 64, 6, 98, 94, 4, 71]\n",
      "Num gen: 9, Fitness óptimo: 0.11940496745915792\n",
      "Mejor individuo: [3, 75, 64, 6, 98, 94, 4, 71]\n",
      "*******Tiempo transcurrido: 0 minutos y 26.58 segundos*******\n"
     ]
    }
   ],
   "source": [
    "n_individuals = 100\n",
    "n_generations = 10\n",
    "mutation_rate = 0.1\n",
    "population = np.random.randint(0, 2000, size=(n_individuals, 8))\n",
    "\n",
    "class Genetic():\n",
    "    def __init__(self, population_size: int, model, y_test, X_test):\n",
    "        self.population = np.random.randint(0, 100, size=(population_size, 8)).tolist()\n",
    "        self.fitnesses = []\n",
    "        self.model = model\n",
    "        self.y_test = y_test\n",
    "        self.X_test = X_test\n",
    "\n",
    "    def fitness(self, individual):\n",
    "        test = self.X_test.copy()\n",
    "        test[:,0] = individual[0]\n",
    "        # test[:,1] = individual[1]\n",
    "        # test[:,2] = individual[2]\n",
    "        # test[:,3] = individual[3]\n",
    "        test[:,4] = individual[4]\n",
    "        test[:,5] = individual[5]\n",
    "        test[:,6] = individual[6]\n",
    "        # test[:,7] = individual[7]\n",
    "        test = torch.tensor(test, dtype=torch.float32).to(device)\n",
    "        predictions = self.model(test.to(device))\n",
    "        predictions = torch.argmax(predictions, dim=1)\n",
    "        predictions = predictions.cpu().numpy()\n",
    "        return accuracy_score(self.y_test, predictions)\n",
    "\n",
    "    def sort_pop(self, reversed: bool) -> tuple[list[list], list]:\n",
    "        \"\"\"Sort population by fitness function. Return tuple with population list and fitness list\"\"\"\n",
    "\n",
    "        fitness_list = [self.fitness(ind) for ind in self.population]\n",
    "        lista = sorted(zip(self.population, fitness_list), key=lambda x: x[1], reverse=reversed)\n",
    "        self.population = [x[0] for x in lista]\n",
    "        self.fitnesses = [x[1] for x in lista]\n",
    "\n",
    "    def select(self, T: int) -> list:\n",
    "        \"\"\"Return a copy of an individual by tournament selection. Population already ordered by fitness\"\"\"\n",
    "        \n",
    "        indices = random.choices(range(len(self.population)), k=T)\n",
    "        best_index = min(indices)  # since population is ordered by fitness\n",
    "        return copy.deepcopy(self.population[best_index])\n",
    "\n",
    "    def mutate(self,individual: list[list], pmut: float) -> list:\n",
    "        \"\"\"Mutate an individual, swap elements. Return mutated individual\"\"\"\n",
    "\n",
    "        def mutate_swap(individual: list[list], pmut: float) -> list[list]:\n",
    "            if random.random() < pmut:\n",
    "                index1, index2 = random.choices(range(len(individual)), k=2)\n",
    "                individual[index1], individual[index2] = individual[index2], individual[index1]\n",
    "            return individual\n",
    "\n",
    "        def mutate_insert(individual: list[list], pmut: float) -> list[list]:\n",
    "            if random.random() < pmut:\n",
    "                index_pop, index_insert = random.choices(range(len(individual)), k=2)\n",
    "                value = individual.pop(index_pop)\n",
    "                individual.insert(index_insert, value)\n",
    "            return individual\n",
    "\n",
    "        def mutate_reverse(individual: list[list], pmut: float) -> list[list]: \n",
    "            if random.random() < pmut:\n",
    "                index1, index2 = sorted(random.sample(range(len(individual)), 2))\n",
    "                individual[index1:index2 + 1] = individual[index1:index2 + 1][::-1]\n",
    "            return individual\n",
    "        def mutate_random(individual: list[list], pmut: float) -> list[list]:\n",
    "            if random.random()<pmut:\n",
    "                for index in range(len(individual)):\n",
    "                    if random.random() < pmut:\n",
    "                        individual[index] =  np.random.randint(0,100)\n",
    "            return individual\n",
    "        \n",
    "        mutations = [mutate_swap, mutate_insert, mutate_reverse,mutate_random]\n",
    "        operator = random.choice(mutations)\n",
    "        return operator(individual, pmut)\n",
    "\n",
    "    def evolve(self, pmut=0.1, ngen=100, T=2, trace=50, reverse_sort=False, elitism=True) -> None:\n",
    "        \"\"\"Evolution procedure\"\"\"\n",
    "        \n",
    "        size = len(self.population)\n",
    "        for i in range(ngen):\n",
    "            new_pop = []\n",
    "            self.sort_pop(reverse_sort)\n",
    "            if elitism:\n",
    "                new_pop.append(self.population[0])\n",
    "                new_pop.append(self.population[1])\n",
    "            while len(new_pop) != size:   \n",
    "                individual1 = self.select(T)\n",
    "                individual2 = self.select(T)\n",
    "                mutated1 = self.mutate(individual1, pmut)\n",
    "                mutated2 = self.mutate(individual2, pmut)\n",
    "                new_pop.append(mutated1)\n",
    "                new_pop.append(mutated2)\n",
    "            \n",
    "            if i % trace == 0 or i == ngen-1: # en la última gen se ordena\n",
    "                self.sort_pop(reverse_sort)\n",
    "                print(f\"Num gen: {i}, Fitness óptimo: {self.fitnesses[0]}\")\n",
    "                print(f\"Mejor individuo: {self.population[0]}\")\n",
    "            self.population = [*new_pop] # make a copy\n",
    "        return self.population\n",
    "\n",
    "start = time.time()\n",
    "genetic_algorithm = Genetic(population_size=100, model=model, y_test=np.array(y_test), X_test=np.array(X_test)) \n",
    "final_population = genetic_algorithm.evolve(pmut=0.1, ngen=10, T=6, trace=1)\n",
    "minutos, segundos = divmod(time.time()-start, 60)\n",
    "print(f\"*******Tiempo transcurrido: {int(minutos)} minutos y {segundos:.2f} segundos*******\")"
   ]
  },
  {
   "cell_type": "code",
   "execution_count": null,
   "metadata": {},
   "outputs": [
    {
     "data": {
      "image/png": "[encoded data removed]",
      "text/plain": [
       "<Figure size 800x400 with 2 Axes>"
      ]
     },
     "metadata": {},
     "output_type": "display_data"
    }
   ],
   "source": [
    "best_individual = genetic_algorithm.population[0]\n",
    "test = X_test.copy()\n",
    "test= np.array(test)\n",
    "test[:,0] = best_individual[0]\n",
    "test[:,4] = best_individual[4]\n",
    "test[:,5] = best_individual[5]\n",
    "test[:,6] = best_individual[6]\n",
    "\n",
    "test = torch.tensor(test, dtype=torch.float32).to(device)\n",
    "predictions = model(test.to(device))\n",
    "predictions = torch.argmax(predictions, dim=1)\n",
    "predictions = predictions.cpu().numpy()\n",
    "print(\"Accuracy: \", accuracy_score(y_test, predictions))\n",
    "print(classification_report(y_test, predictions))\n",
    "\n",
    "cm = confusion_matrix(y_test, predictions)\n",
    "plt.figure(figsize=(8,4))\n",
    "sns.heatmap(cm, annot=True, fmt='d', cmap='Blues')\n",
    "plt.xlabel('Predicted Labels')\n",
    "plt.ylabel('True Labels')\n",
    "plt.title('Confusion Matrix')\n",
    "plt.show()"
   ]
  },
  {
   "cell_type": "markdown",
   "metadata": {},
   "source": [
    "## **White Box attack**"
   ]
  },
  {
   "cell_type": "code",
   "execution_count": 11,
   "metadata": {},
   "outputs": [
    {
     "name": "stdout",
     "output_type": "stream",
     "text": [
      "Using device: cuda\n"
     ]
    }
   ],
   "source": [
    "device = \"cuda\" if torch.cuda.is_available() else \"cpu\"\n",
    "print(\"Using device:\", device)\n",
    "\n",
    "df = pd.read_csv('data/malware_dataset.csv')\n",
    "df = df.drop([\"timestamp\", 'unused_permissions', \"sha256\"], axis=1)\n",
    "\n",
    "X_train, X_test, y_train, y_test = train_test_split(df.drop('label', axis=1), df['label'], test_size=0.1, random_state=42)\n",
    "X_test = torch.tensor(X_test.values, dtype=torch.float32).to(device)\n",
    "y_test = torch.tensor(y_test.values, dtype=torch.float32).to(device)\n",
    "\n",
    "whitebox_model = torch.load('malware_NN_model.pt', weights_only=False).to(device)\n",
    "whitebox_model.eval()\n",
    "criterion = nn.CrossEntropyLoss()"
   ]
  },
  {
   "cell_type": "markdown",
   "metadata": {},
   "source": [
    "### FGSM no dirigido"
   ]
  },
  {
   "cell_type": "code",
   "execution_count": 12,
   "metadata": {},
   "outputs": [
    {
     "name": "stdout",
     "output_type": "stream",
     "text": [
      "Accuracy after iteration 1: 0.9698499136671537\n",
      "Accuracy after iteration 2: 0.29472705538584143\n",
      "Accuracy after iteration 3: 0.2806481604462744\n",
      "Accuracy after iteration 4: 0.28051534068269357\n",
      "Accuracy after iteration 5: 0.28051534068269357\n"
     ]
    }
   ],
   "source": [
    "def fgsm_attack(data: torch.Tensor, data_grad: torch.Tensor, epsilon: float = 0.2) -> torch.Tensor:\n",
    "    sign_data_grad = data_grad.sign()\n",
    "    perturbed_data = data + epsilon * sign_data_grad\n",
    "    perturbed_data = torch.clamp(perturbed_data, 0, torch.inf)\n",
    "    perturbed_data[:, 8:] = torch.clamp(perturbed_data[:, 8:], 0, 1)\n",
    "    perturbed_data = perturbed_data.round()\n",
    "    return perturbed_data\n",
    "\n",
    "# Parameters\n",
    "num_iterations = 5\n",
    "epsilon = 0.5  # Small step size per iteration\n",
    "\n",
    "# Start from clean input\n",
    "x_adv = X_test.clone().detach().to(device)\n",
    "x_adv.requires_grad = True\n",
    "\n",
    "for i in range(num_iterations):\n",
    "    whitebox_model.zero_grad()\n",
    "    output = whitebox_model(x_adv)\n",
    "    loss = criterion(output, y_test.long())\n",
    "    loss.backward()\n",
    "\n",
    "    # Apply FGSM\n",
    "    data_grad = x_adv.grad.data\n",
    "    x_adv = fgsm_attack(x_adv, data_grad, epsilon)\n",
    "\n",
    "    # Re-enable gradient tracking for the next iteration\n",
    "    x_adv = x_adv.detach().clone().requires_grad_(True)\n",
    "    print(f\"Accuracy after iteration {i+1}: {accuracy_score(y_test.cpu(), torch.argmax(output, dim=1).cpu())}\")\n",
    "\n",
    "# Final prediction on adversarial example\n",
    "output = whitebox_model(x_adv)\n",
    "prediction = torch.argmax(output, dim=1)"
   ]
  },
  {
   "cell_type": "code",
   "execution_count": 13,
   "metadata": {},
   "outputs": [
    {
     "name": "stdout",
     "output_type": "stream",
     "text": [
      "              precision    recall  f1-score   support\n",
      "\n",
      "         0.0       0.73      0.31      0.44      6763\n",
      "         1.0       0.00      0.00      0.00       766\n",
      "\n",
      "    accuracy                           0.28      7529\n",
      "   macro avg       0.37      0.16      0.22      7529\n",
      "weighted avg       0.66      0.28      0.39      7529\n",
      "\n"
     ]
    },
    {
     "data": {
      "image/png": "[encoded data removed]",
      "text/plain": [
       "<Figure size 800x400 with 2 Axes>"
      ]
     },
     "metadata": {},
     "output_type": "display_data"
    }
   ],
   "source": [
    "print(classification_report(y_test.cpu(), prediction.cpu()))\n",
    "cm = confusion_matrix(y_test.cpu(), prediction.cpu())\n",
    "plt.figure(figsize=(8,4))\n",
    "sns.heatmap(cm, annot=True, fmt='d', cmap='Blues')\n",
    "plt.xlabel('Predicted Labels')\n",
    "plt.ylabel('True Labels')\n",
    "plt.title('Confusion Matrix')\n",
    "plt.show()"
   ]
  },
  {
   "cell_type": "code",
   "execution_count": 14,
   "metadata": {},
   "outputs": [
    {
     "data": {
      "text/html": [
       "<div>\n",
       "<style scoped>\n",
       "    .dataframe tbody tr th:only-of-type {\n",
       "        vertical-align: middle;\n",
       "    }\n",
       "\n",
       "    .dataframe tbody tr th {\n",
       "        vertical-align: top;\n",
       "    }\n",
       "\n",
       "    .dataframe thead th {\n",
       "        text-align: right;\n",
       "    }\n",
       "</style>\n",
       "<table border=\"1\" class=\"dataframe\">\n",
       "  <thead>\n",
       "    <tr style=\"text-align: right;\">\n",
       "      <th></th>\n",
       "      <th>label</th>\n",
       "      <th>activities_count</th>\n",
       "      <th>providers_count</th>\n",
       "      <th>receivers_count</th>\n",
       "      <th>features_count</th>\n",
       "      <th>intent_filters_count</th>\n",
       "      <th>api_calls_count</th>\n",
       "      <th>urls_count</th>\n",
       "      <th>services_count</th>\n",
       "      <th>perm_android.permission.ACCESS_ALL_DOWNLOADS</th>\n",
       "      <th>...</th>\n",
       "      <th>susp_getExternalStorageDirectory</th>\n",
       "      <th>susp_getNetworkCountryIso</th>\n",
       "      <th>susp_getPackageInfo</th>\n",
       "      <th>susp_getSimCountryIso</th>\n",
       "      <th>susp_getSubscriberId</th>\n",
       "      <th>susp_getSystemService</th>\n",
       "      <th>susp_getWifiState</th>\n",
       "      <th>susp_sendTextMessage</th>\n",
       "      <th>susp_setWifiDisabled</th>\n",
       "      <th>susp_setWifiEnabled</th>\n",
       "    </tr>\n",
       "  </thead>\n",
       "  <tbody>\n",
       "    <tr>\n",
       "      <th>0</th>\n",
       "      <td>0.0</td>\n",
       "      <td>0.0</td>\n",
       "      <td>10.0</td>\n",
       "      <td>0.0</td>\n",
       "      <td>10.0</td>\n",
       "      <td>18.0</td>\n",
       "      <td>102.0</td>\n",
       "      <td>12.0</td>\n",
       "      <td>0.0</td>\n",
       "      <td>0.0</td>\n",
       "      <td>...</td>\n",
       "      <td>0.0</td>\n",
       "      <td>0.0</td>\n",
       "      <td>0.0</td>\n",
       "      <td>0.0</td>\n",
       "      <td>0.0</td>\n",
       "      <td>0.0</td>\n",
       "      <td>0.0</td>\n",
       "      <td>0.0</td>\n",
       "      <td>0.0</td>\n",
       "      <td>0.0</td>\n",
       "    </tr>\n",
       "    <tr>\n",
       "      <th>1</th>\n",
       "      <td>0.0</td>\n",
       "      <td>0.0</td>\n",
       "      <td>8.0</td>\n",
       "      <td>0.0</td>\n",
       "      <td>8.0</td>\n",
       "      <td>24.0</td>\n",
       "      <td>14.0</td>\n",
       "      <td>12.0</td>\n",
       "      <td>0.0</td>\n",
       "      <td>0.0</td>\n",
       "      <td>...</td>\n",
       "      <td>0.0</td>\n",
       "      <td>1.0</td>\n",
       "      <td>0.0</td>\n",
       "      <td>0.0</td>\n",
       "      <td>0.0</td>\n",
       "      <td>0.0</td>\n",
       "      <td>0.0</td>\n",
       "      <td>0.0</td>\n",
       "      <td>0.0</td>\n",
       "      <td>0.0</td>\n",
       "    </tr>\n",
       "    <tr>\n",
       "      <th>2</th>\n",
       "      <td>0.0</td>\n",
       "      <td>0.0</td>\n",
       "      <td>0.0</td>\n",
       "      <td>0.0</td>\n",
       "      <td>2.0</td>\n",
       "      <td>8.0</td>\n",
       "      <td>8.0</td>\n",
       "      <td>0.0</td>\n",
       "      <td>0.0</td>\n",
       "      <td>0.0</td>\n",
       "      <td>...</td>\n",
       "      <td>0.0</td>\n",
       "      <td>0.0</td>\n",
       "      <td>0.0</td>\n",
       "      <td>0.0</td>\n",
       "      <td>0.0</td>\n",
       "      <td>0.0</td>\n",
       "      <td>0.0</td>\n",
       "      <td>0.0</td>\n",
       "      <td>0.0</td>\n",
       "      <td>0.0</td>\n",
       "    </tr>\n",
       "    <tr>\n",
       "      <th>3</th>\n",
       "      <td>0.0</td>\n",
       "      <td>0.0</td>\n",
       "      <td>8.0</td>\n",
       "      <td>6.0</td>\n",
       "      <td>10.0</td>\n",
       "      <td>22.0</td>\n",
       "      <td>32.0</td>\n",
       "      <td>12.0</td>\n",
       "      <td>0.0</td>\n",
       "      <td>0.0</td>\n",
       "      <td>...</td>\n",
       "      <td>0.0</td>\n",
       "      <td>0.0</td>\n",
       "      <td>0.0</td>\n",
       "      <td>0.0</td>\n",
       "      <td>0.0</td>\n",
       "      <td>0.0</td>\n",
       "      <td>0.0</td>\n",
       "      <td>0.0</td>\n",
       "      <td>0.0</td>\n",
       "      <td>0.0</td>\n",
       "    </tr>\n",
       "    <tr>\n",
       "      <th>4</th>\n",
       "      <td>0.0</td>\n",
       "      <td>2.0</td>\n",
       "      <td>6.0</td>\n",
       "      <td>2.0</td>\n",
       "      <td>18.0</td>\n",
       "      <td>14.0</td>\n",
       "      <td>48.0</td>\n",
       "      <td>6.0</td>\n",
       "      <td>0.0</td>\n",
       "      <td>0.0</td>\n",
       "      <td>...</td>\n",
       "      <td>0.0</td>\n",
       "      <td>0.0</td>\n",
       "      <td>0.0</td>\n",
       "      <td>0.0</td>\n",
       "      <td>0.0</td>\n",
       "      <td>0.0</td>\n",
       "      <td>0.0</td>\n",
       "      <td>0.0</td>\n",
       "      <td>0.0</td>\n",
       "      <td>0.0</td>\n",
       "    </tr>\n",
       "    <tr>\n",
       "      <th>...</th>\n",
       "      <td>...</td>\n",
       "      <td>...</td>\n",
       "      <td>...</td>\n",
       "      <td>...</td>\n",
       "      <td>...</td>\n",
       "      <td>...</td>\n",
       "      <td>...</td>\n",
       "      <td>...</td>\n",
       "      <td>...</td>\n",
       "      <td>...</td>\n",
       "      <td>...</td>\n",
       "      <td>...</td>\n",
       "      <td>...</td>\n",
       "      <td>...</td>\n",
       "      <td>...</td>\n",
       "      <td>...</td>\n",
       "      <td>...</td>\n",
       "      <td>...</td>\n",
       "      <td>...</td>\n",
       "      <td>...</td>\n",
       "      <td>...</td>\n",
       "    </tr>\n",
       "    <tr>\n",
       "      <th>7524</th>\n",
       "      <td>0.0</td>\n",
       "      <td>0.0</td>\n",
       "      <td>2.0</td>\n",
       "      <td>0.0</td>\n",
       "      <td>2.0</td>\n",
       "      <td>50.0</td>\n",
       "      <td>12.0</td>\n",
       "      <td>4.0</td>\n",
       "      <td>0.0</td>\n",
       "      <td>0.0</td>\n",
       "      <td>...</td>\n",
       "      <td>0.0</td>\n",
       "      <td>0.0</td>\n",
       "      <td>0.0</td>\n",
       "      <td>0.0</td>\n",
       "      <td>0.0</td>\n",
       "      <td>0.0</td>\n",
       "      <td>0.0</td>\n",
       "      <td>0.0</td>\n",
       "      <td>0.0</td>\n",
       "      <td>0.0</td>\n",
       "    </tr>\n",
       "    <tr>\n",
       "      <th>7525</th>\n",
       "      <td>0.0</td>\n",
       "      <td>0.0</td>\n",
       "      <td>0.0</td>\n",
       "      <td>4.0</td>\n",
       "      <td>0.0</td>\n",
       "      <td>32.0</td>\n",
       "      <td>16.0</td>\n",
       "      <td>0.0</td>\n",
       "      <td>0.0</td>\n",
       "      <td>0.0</td>\n",
       "      <td>...</td>\n",
       "      <td>0.0</td>\n",
       "      <td>0.0</td>\n",
       "      <td>0.0</td>\n",
       "      <td>0.0</td>\n",
       "      <td>0.0</td>\n",
       "      <td>0.0</td>\n",
       "      <td>0.0</td>\n",
       "      <td>0.0</td>\n",
       "      <td>0.0</td>\n",
       "      <td>0.0</td>\n",
       "    </tr>\n",
       "    <tr>\n",
       "      <th>7526</th>\n",
       "      <td>0.0</td>\n",
       "      <td>0.0</td>\n",
       "      <td>8.0</td>\n",
       "      <td>2.0</td>\n",
       "      <td>18.0</td>\n",
       "      <td>48.0</td>\n",
       "      <td>120.0</td>\n",
       "      <td>12.0</td>\n",
       "      <td>0.0</td>\n",
       "      <td>0.0</td>\n",
       "      <td>...</td>\n",
       "      <td>1.0</td>\n",
       "      <td>0.0</td>\n",
       "      <td>1.0</td>\n",
       "      <td>0.0</td>\n",
       "      <td>0.0</td>\n",
       "      <td>0.0</td>\n",
       "      <td>0.0</td>\n",
       "      <td>0.0</td>\n",
       "      <td>0.0</td>\n",
       "      <td>1.0</td>\n",
       "    </tr>\n",
       "    <tr>\n",
       "      <th>7527</th>\n",
       "      <td>1.0</td>\n",
       "      <td>0.0</td>\n",
       "      <td>2.0</td>\n",
       "      <td>0.0</td>\n",
       "      <td>22.0</td>\n",
       "      <td>64.0</td>\n",
       "      <td>100.0</td>\n",
       "      <td>4.0</td>\n",
       "      <td>0.0</td>\n",
       "      <td>0.0</td>\n",
       "      <td>...</td>\n",
       "      <td>0.0</td>\n",
       "      <td>1.0</td>\n",
       "      <td>0.0</td>\n",
       "      <td>0.0</td>\n",
       "      <td>1.0</td>\n",
       "      <td>0.0</td>\n",
       "      <td>0.0</td>\n",
       "      <td>0.0</td>\n",
       "      <td>0.0</td>\n",
       "      <td>0.0</td>\n",
       "    </tr>\n",
       "    <tr>\n",
       "      <th>7528</th>\n",
       "      <td>0.0</td>\n",
       "      <td>0.0</td>\n",
       "      <td>0.0</td>\n",
       "      <td>0.0</td>\n",
       "      <td>4.0</td>\n",
       "      <td>18.0</td>\n",
       "      <td>174.0</td>\n",
       "      <td>0.0</td>\n",
       "      <td>0.0</td>\n",
       "      <td>0.0</td>\n",
       "      <td>...</td>\n",
       "      <td>0.0</td>\n",
       "      <td>0.0</td>\n",
       "      <td>0.0</td>\n",
       "      <td>0.0</td>\n",
       "      <td>0.0</td>\n",
       "      <td>0.0</td>\n",
       "      <td>0.0</td>\n",
       "      <td>0.0</td>\n",
       "      <td>0.0</td>\n",
       "      <td>0.0</td>\n",
       "    </tr>\n",
       "  </tbody>\n",
       "</table>\n",
       "<p>7529 rows × 354 columns</p>\n",
       "</div>"
      ],
      "text/plain": [
       "      label  activities_count  providers_count  receivers_count  \\\n",
       "0       0.0               0.0             10.0              0.0   \n",
       "1       0.0               0.0              8.0              0.0   \n",
       "2       0.0               0.0              0.0              0.0   \n",
       "3       0.0               0.0              8.0              6.0   \n",
       "4       0.0               2.0              6.0              2.0   \n",
       "...     ...               ...              ...              ...   \n",
       "7524    0.0               0.0              2.0              0.0   \n",
       "7525    0.0               0.0              0.0              4.0   \n",
       "7526    0.0               0.0              8.0              2.0   \n",
       "7527    1.0               0.0              2.0              0.0   \n",
       "7528    0.0               0.0              0.0              0.0   \n",
       "\n",
       "      features_count  intent_filters_count  api_calls_count  urls_count  \\\n",
       "0               10.0                  18.0            102.0        12.0   \n",
       "1                8.0                  24.0             14.0        12.0   \n",
       "2                2.0                   8.0              8.0         0.0   \n",
       "3               10.0                  22.0             32.0        12.0   \n",
       "4               18.0                  14.0             48.0         6.0   \n",
       "...              ...                   ...              ...         ...   \n",
       "7524             2.0                  50.0             12.0         4.0   \n",
       "7525             0.0                  32.0             16.0         0.0   \n",
       "7526            18.0                  48.0            120.0        12.0   \n",
       "7527            22.0                  64.0            100.0         4.0   \n",
       "7528             4.0                  18.0            174.0         0.0   \n",
       "\n",
       "      services_count  perm_android.permission.ACCESS_ALL_DOWNLOADS  ...  \\\n",
       "0                0.0                                           0.0  ...   \n",
       "1                0.0                                           0.0  ...   \n",
       "2                0.0                                           0.0  ...   \n",
       "3                0.0                                           0.0  ...   \n",
       "4                0.0                                           0.0  ...   \n",
       "...              ...                                           ...  ...   \n",
       "7524             0.0                                           0.0  ...   \n",
       "7525             0.0                                           0.0  ...   \n",
       "7526             0.0                                           0.0  ...   \n",
       "7527             0.0                                           0.0  ...   \n",
       "7528             0.0                                           0.0  ...   \n",
       "\n",
       "      susp_getExternalStorageDirectory  susp_getNetworkCountryIso  \\\n",
       "0                                  0.0                        0.0   \n",
       "1                                  0.0                        1.0   \n",
       "2                                  0.0                        0.0   \n",
       "3                                  0.0                        0.0   \n",
       "4                                  0.0                        0.0   \n",
       "...                                ...                        ...   \n",
       "7524                               0.0                        0.0   \n",
       "7525                               0.0                        0.0   \n",
       "7526                               1.0                        0.0   \n",
       "7527                               0.0                        1.0   \n",
       "7528                               0.0                        0.0   \n",
       "\n",
       "      susp_getPackageInfo  susp_getSimCountryIso  susp_getSubscriberId  \\\n",
       "0                     0.0                    0.0                   0.0   \n",
       "1                     0.0                    0.0                   0.0   \n",
       "2                     0.0                    0.0                   0.0   \n",
       "3                     0.0                    0.0                   0.0   \n",
       "4                     0.0                    0.0                   0.0   \n",
       "...                   ...                    ...                   ...   \n",
       "7524                  0.0                    0.0                   0.0   \n",
       "7525                  0.0                    0.0                   0.0   \n",
       "7526                  1.0                    0.0                   0.0   \n",
       "7527                  0.0                    0.0                   1.0   \n",
       "7528                  0.0                    0.0                   0.0   \n",
       "\n",
       "      susp_getSystemService  susp_getWifiState  susp_sendTextMessage  \\\n",
       "0                       0.0                0.0                   0.0   \n",
       "1                       0.0                0.0                   0.0   \n",
       "2                       0.0                0.0                   0.0   \n",
       "3                       0.0                0.0                   0.0   \n",
       "4                       0.0                0.0                   0.0   \n",
       "...                     ...                ...                   ...   \n",
       "7524                    0.0                0.0                   0.0   \n",
       "7525                    0.0                0.0                   0.0   \n",
       "7526                    0.0                0.0                   0.0   \n",
       "7527                    0.0                0.0                   0.0   \n",
       "7528                    0.0                0.0                   0.0   \n",
       "\n",
       "      susp_setWifiDisabled  susp_setWifiEnabled  \n",
       "0                      0.0                  0.0  \n",
       "1                      0.0                  0.0  \n",
       "2                      0.0                  0.0  \n",
       "3                      0.0                  0.0  \n",
       "4                      0.0                  0.0  \n",
       "...                    ...                  ...  \n",
       "7524                   0.0                  0.0  \n",
       "7525                   0.0                  0.0  \n",
       "7526                   0.0                  1.0  \n",
       "7527                   0.0                  0.0  \n",
       "7528                   0.0                  0.0  \n",
       "\n",
       "[7529 rows x 354 columns]"
      ]
     },
     "execution_count": 14,
     "metadata": {},
     "output_type": "execute_result"
    }
   ],
   "source": [
    "perturbed_data_df = pd.DataFrame(x_adv.cpu().detach().numpy(), columns=df.columns[:-1])\n",
    "perturbed_data_df['label'] = y_test.cpu().detach().numpy()\n",
    "perturbed_data_df"
   ]
  },
  {
   "cell_type": "markdown",
   "metadata": {},
   "source": [
    "### Otros posibles ataques:\n",
    "* Ataque FGSM dirigido\n",
    "* Proyectar o iterar (PGD)\n",
    "* Ataque de Carlini y Wagner (C&W)\n",
    "* Ataque de Jacobian Saliency Map (JSMA)\n",
    "* Ataque de DeepFool\n",
    "* Ataques de Universal Perturbation\n",
    "* Ataques de Adversarial Noise"
   ]
  },
  {
   "cell_type": "markdown",
   "metadata": {},
   "source": [
    "# 2. Prove that your model can be more robust to adversarial examples"
   ]
  },
  {
   "cell_type": "markdown",
   "metadata": {},
   "source": [
    "Demonstrate that your model maintains high accuracy when subjected to adversarial examples. Provide empirical evidence of robustness by evaluating performance under adversarial attacks.\n",
    "\n",
    "What Will Be Valued:\n",
    "- Effective adversarial attack methods and proper defense mechanisms.\n",
    "- Clear evaluation metrics comparing standard vs. adversarial performance.\n",
    "- Well-documented methodology and reproducibility of results."
   ]
  },
  {
   "cell_type": "code",
   "execution_count": null,
   "metadata": {},
   "outputs": [],
   "source": [
    "class Large_Model(nn.Module):\n",
    "    def __init__(self):\n",
    "        super(Large_Model, self).__init__()\n",
    "        self.fc1 = nn.Linear(354, 256)\n",
    "        self.fc2 = nn.Linear(256, 128)\n",
    "        self.fc3 = nn.Linear(128, 64)\n",
    "        self.fc4 = nn.Linear(64, 32)\n",
    "        self.fc5 = nn.Linear(32, 16)\n",
    "        self.fc6 = nn.Linear(16, 2)\n",
    "        \n",
    "        self.mish = nn.Mish()\n",
    "    def forward(self, x):\n",
    "        x = self.fc1(x)\n",
    "        x = self.mish(x)\n",
    "        x = self.fc2(x)\n",
    "        x = self.mish(x)\n",
    "        x = self.fc3(x)\n",
    "        x = self.mish(x)\n",
    "        x = self.fc4(x)\n",
    "        x = self.mish(x)\n",
    "        x = self.fc5(x)\n",
    "        x = self.mish(x)\n",
    "        x = self.fc6(x)\n",
    "        return x\n",
    "class CustomDataset(Dataset):\n",
    "    def __init__(self, data, labels):\n",
    "        self.data = data\n",
    "        self.labels = labels\n",
    "\n",
    "    def __len__(self):\n",
    "        return len(self.data)\n",
    "\n",
    "    def __getitem__(self, idx):\n",
    "        return torch.tensor(self.data[idx], dtype=torch.float32), torch.tensor(self.labels[idx], dtype=torch.long)\n",
    "    \n",
    "X_train, X_test, y_train, y_test = train_test_split(df.drop('label', axis=1), df['label'], test_size=0.1, random_state=42)\n",
    "    \n",
    "EPOCHS = 4\n",
    "BATCH_SIZE = 256\n",
    "large_model = Large_Model().to(device)\n",
    "large_dataloader_train = DataLoader(CustomDataset(X_train.values, y_train.values), batch_size=BATCH_SIZE, shuffle=True)\n",
    "large_dataloader_test = DataLoader(CustomDataset(X_test.values, y_test.values), batch_size=BATCH_SIZE, shuffle=False)\n",
    "large_optimizer = torch.optim.Adam(large_model.parameters(), lr=0.001)\n",
    "large_criterion = nn.CrossEntropyLoss()"
   ]
  },
  {
   "cell_type": "markdown",
   "metadata": {},
   "source": [
    "### BlackBox robustness"
   ]
  },
  {
   "cell_type": "code",
   "execution_count": null,
   "metadata": {},
   "outputs": [
    {
     "name": "stderr",
     "output_type": "stream",
     "text": [
      "Training: 100%|██████████| 265/265 [00:01<00:00, 171.87it/s]\n",
      "Testing: 100%|██████████| 30/30 [00:00<00:00, 258.22it/s]\n"
     ]
    },
    {
     "name": "stdout",
     "output_type": "stream",
     "text": [
      "Epoch 1/4, Accuracy: 95.25%\n"
     ]
    },
    {
     "name": "stderr",
     "output_type": "stream",
     "text": [
      "Training: 100%|██████████| 265/265 [00:01<00:00, 167.58it/s]\n",
      "Testing: 100%|██████████| 30/30 [00:00<00:00, 257.55it/s]\n"
     ]
    },
    {
     "name": "stdout",
     "output_type": "stream",
     "text": [
      "Epoch 2/4, Accuracy: 96.20%\n"
     ]
    },
    {
     "name": "stderr",
     "output_type": "stream",
     "text": [
      "Training: 100%|██████████| 265/265 [00:01<00:00, 165.59it/s]\n",
      "Testing: 100%|██████████| 30/30 [00:00<00:00, 258.63it/s]\n"
     ]
    },
    {
     "name": "stdout",
     "output_type": "stream",
     "text": [
      "Epoch 3/4, Accuracy: 96.40%\n"
     ]
    },
    {
     "name": "stderr",
     "output_type": "stream",
     "text": [
      "Training: 100%|██████████| 265/265 [00:01<00:00, 177.19it/s]\n",
      "Testing: 100%|██████████| 30/30 [00:00<00:00, 365.35it/s]"
     ]
    },
    {
     "name": "stdout",
     "output_type": "stream",
     "text": [
      "Epoch 4/4, Accuracy: 96.23%\n"
     ]
    },
    {
     "name": "stderr",
     "output_type": "stream",
     "text": [
      "\n"
     ]
    }
   ],
   "source": [
    "for epoch in range(EPOCHS):\n",
    "    large_model.train()\n",
    "    for data, labels in tqdm(large_dataloader_train, desc=\"Training\", total=len(large_dataloader_train)):\n",
    "        large_optimizer.zero_grad()\n",
    "        data, labels = data.to(device), labels.to(device)\n",
    "        outputs = large_model(data)\n",
    "        loss = large_criterion(outputs, labels)\n",
    "        loss.backward()\n",
    "        large_optimizer.step()\n",
    "\n",
    "    correct = 0\n",
    "    total = 0\n",
    "    for data, labels in tqdm(large_dataloader_test, desc=\"Testing\", total=len(large_dataloader_test)):\n",
    "        data, labels = data.to(device), labels.to(device)\n",
    "        outputs = large_model(data)\n",
    "        loss = large_criterion(outputs, labels)\n",
    "        _, predicted = torch.max(outputs.data, 1)\n",
    "        correct += (predicted == labels).sum().item()\n",
    "        total += labels.size(0)\n",
    "    print(f\"Epoch {epoch+1}/{EPOCHS}, Accuracy: {100 * correct / total:.2f}%\")\n",
    "\n",
    "# torch.save(large_model, 'malware_large_NN_model.pt')"
   ]
  },
  {
   "cell_type": "code",
   "execution_count": 173,
   "metadata": {},
   "outputs": [],
   "source": [
    "large_model = torch.load('malware_large_NN_model.pt', weights_only=False)"
   ]
  },
  {
   "cell_type": "code",
   "execution_count": 193,
   "metadata": {},
   "outputs": [
    {
     "name": "stdout",
     "output_type": "stream",
     "text": [
      "Accuracy: 0.8981272413335104\n",
      "              precision    recall  f1-score   support\n",
      "\n",
      "           0       0.97      0.92      0.94      6763\n",
      "           1       0.50      0.73      0.59       766\n",
      "\n",
      "    accuracy                           0.90      7529\n",
      "   macro avg       0.73      0.82      0.77      7529\n",
      "weighted avg       0.92      0.90      0.91      7529\n",
      "\n"
     ]
    },
    {
     "data": {
      "image/png": "[encoded data removed]",
      "text/plain": [
       "<Figure size 800x400 with 2 Axes>"
      ]
     },
     "metadata": {},
     "output_type": "display_data"
    }
   ],
   "source": [
    "test = X_test.values.copy()\n",
    "best_individual = [3, 75, 64, 6, 98, 94, 4, 71]\n",
    "test[:,0] = best_individual[0]\n",
    "test[:,4] = best_individual[4]\n",
    "test[:,5] = best_individual[5]\n",
    "test[:,6] = best_individual[6]\n",
    "\n",
    "test = torch.tensor(test, dtype=torch.float32).to(device)\n",
    "predictions = large_model(test.to(device))\n",
    "predictions = torch.argmax(predictions, dim=1)\n",
    "predictions = predictions.cpu().numpy()\n",
    "print(f\"Accuracy: {accuracy_score(y_test, predictions)}\")\n",
    "print(classification_report(y_test, predictions))\n",
    "\n",
    "cm = confusion_matrix(y_test, predictions)\n",
    "plt.figure(figsize=(8,4))\n",
    "sns.heatmap(cm, annot=True, fmt='d', cmap='Blues')\n",
    "plt.xlabel('Predicted Labels')\n",
    "plt.ylabel('True Labels')\n",
    "plt.title('Confusion Matrix')\n",
    "plt.show()"
   ]
  },
  {
   "cell_type": "markdown",
   "metadata": {},
   "source": [
    "### Whitebox robustness"
   ]
  },
  {
   "cell_type": "code",
   "execution_count": null,
   "metadata": {},
   "outputs": [
    {
     "name": "stdout",
     "output_type": "stream",
     "text": [
      "Accuracy: 0.6586532075972905\n",
      "              precision    recall  f1-score   support\n",
      "\n",
      "           0       0.87      0.73      0.79      6763\n",
      "           1       0.02      0.06      0.03       766\n",
      "\n",
      "    accuracy                           0.66      7529\n",
      "   macro avg       0.45      0.39      0.41      7529\n",
      "weighted avg       0.79      0.66      0.72      7529\n",
      "\n"
     ]
    },
    {
     "data": {
      "image/png": "[encoded data removed]",
      "text/plain": [
       "<Figure size 800x400 with 2 Axes>"
      ]
     },
     "metadata": {},
     "output_type": "display_data"
    }
   ],
   "source": [
    "whitebox_attack = torch.tensor(perturbed_data_df.values.copy(),dtype=torch.float32).to(device)\n",
    "predictions = large_model(whitebox_attack)\n",
    "predictions = torch.argmax(predictions, dim=1)\n",
    "predictions = predictions.cpu().numpy()\n",
    "print(f\"Accuracy: {accuracy_score(y_test, predictions)}\")\n",
    "print(classification_report(y_test, predictions))\n",
    "\n",
    "cm = confusion_matrix(y_test, predictions)\n",
    "plt.figure(figsize=(8,4))\n",
    "sns.heatmap(cm, annot=True, fmt='d', cmap='Blues')\n",
    "plt.xlabel('Predicted Labels')\n",
    "plt.ylabel('True Labels')\n",
    "plt.title('Confusion Matrix')\n",
    "plt.show()"
   ]
  },
  {
   "cell_type": "markdown",
   "metadata": {},
   "source": [
    "# 3. Try to attack this model"
   ]
  },
  {
   "cell_type": "markdown",
   "metadata": {},
   "source": [
    "You will be given the anonymous model `android_permission_model.onnx`, previously trained on the provided dataset. \n",
    "Analyze the model’s weaknesses by testing different black-box attack strategies.\n",
    "\n",
    "What Will Be Valued:\n",
    "- Use of diverse adversarial attack techniques.\n",
    "- Quantitative analysis of attack effectiveness with relevant metrics.\n",
    "- Clear documentation of the attack process and reproducibility.\n",
    "\n",
    "Below, you can find an example on model loading and inference. The model expects every column in the dataset except for `sha256`, `timestamp` and `unused_permissions`.\n",
    "The model is loaded in an [onnx runtime](https://onnxruntime.ai/docs/api/python/api_summary.html). "
   ]
  },
  {
   "cell_type": "markdown",
   "metadata": {},
   "source": [
    "## **Model setup**"
   ]
  },
  {
   "cell_type": "code",
   "execution_count": 206,
   "metadata": {},
   "outputs": [],
   "source": [
    "DATASET_ROUTE = 'data/malware_dataset.csv'\n",
    "model_path = 'malware_example_model.onnx'\n",
    "\n",
    "df = pd.read_csv(DATASET_ROUTE)\n",
    "\n",
    "# removing unused columns\n",
    "if 'timestamp' in df.columns:\n",
    "    df = df.drop('timestamp', axis=1)\n",
    "if 'unused_permissions' in df.columns:\n",
    "    df = df.drop('unused_permissions', axis=1)\n",
    "if 'sha256' in df.columns:\n",
    "    df = df.drop('sha256', axis=1)\n",
    "\n",
    "# features and target separation + train/test split\n",
    "X = df.drop('label', axis=1)\n",
    "y = df['label']\n",
    "\n",
    "X_train, X_test, y_train, y_test = train_test_split(X, y, test_size=0.25, random_state=42, stratify=y)"
   ]
  },
  {
   "cell_type": "markdown",
   "metadata": {},
   "source": [
    "Example inference function using [sess.run()](https://onnxruntime.ai/docs/api/python/api_summary.html#onnxruntime.InferenceSession.run):"
   ]
  },
  {
   "cell_type": "code",
   "execution_count": 202,
   "metadata": {},
   "outputs": [],
   "source": [
    "def onnx_inference(model_path: str, test_data: np.ndarray) -> np.ndarray:\n",
    "    \"\"\"\n",
    "    Function to load and make predictions with an ONNX model\n",
    "    \"\"\"\n",
    "    # open ONNX inference session\n",
    "    sess = rt.InferenceSession(model_path)\n",
    "    \n",
    "    # input and output names\n",
    "    input_name = sess.get_inputs()[0].name\n",
    "    output_names = [output.name for output in sess.get_outputs()]\n",
    "    \n",
    "    # send inputs to the model and obtain predictions\n",
    "    results = sess.run(output_names, {input_name: test_data.astype(np.float32)})\n",
    "\n",
    "    return results[0]       # results[0] are discrete predicted labels, while results[1] are probabilities"
   ]
  },
  {
   "cell_type": "code",
   "execution_count": 209,
   "metadata": {},
   "outputs": [
    {
     "name": "stdout",
     "output_type": "stream",
     "text": [
      "ONNX Model Predictions (full test set):\n",
      "Accuracy: 0.9815\n",
      "Classification Report:\n",
      "              precision    recall  f1-score   support\n",
      "\n",
      "           0       1.00      0.98      0.99     16943\n",
      "           1       0.86      0.97      0.91      1880\n",
      "\n",
      "    accuracy                           0.98     18823\n",
      "   macro avg       0.93      0.98      0.95     18823\n",
      "weighted avg       0.98      0.98      0.98     18823\n",
      "\n"
     ]
    },
    {
     "data": {
      "image/png": "[encoded data removed]",
      "text/plain": [
       "<Figure size 800x400 with 2 Axes>"
      ]
     },
     "metadata": {},
     "output_type": "display_data"
    }
   ],
   "source": [
    "print(\"ONNX Model Predictions (full test set):\")\n",
    "full_predictions = onnx_inference(model_path, X_test.values)\n",
    "try:\n",
    "    print(f\"Accuracy: {accuracy_score(y_test, full_predictions):.4f}\")\n",
    "    print(\"Classification Report:\")\n",
    "    print(classification_report(y_test, full_predictions))\n",
    "    cm = confusion_matrix(y_test, full_predictions)\n",
    "    plt.figure(figsize=(8,4))\n",
    "    sns.heatmap(cm, annot=True, fmt='d', cmap='Blues')\n",
    "    plt.xlabel('Predicted Labels')\n",
    "    plt.ylabel('True Labels')\n",
    "    plt.title('Confusion Matrix')\n",
    "    plt.show()\n",
    "except Exception as e:\n",
    "    print(f\"Error during ONNX prediction: {e}\")"
   ]
  },
  {
   "cell_type": "markdown",
   "metadata": {},
   "source": [
    "## **Ataque: Copiar los valores del genético para atacar el modelo**"
   ]
  },
  {
   "cell_type": "code",
   "execution_count": null,
   "metadata": {},
   "outputs": [
    {
     "name": "stdout",
     "output_type": "stream",
     "text": [
      "ONNX Model Predictions (full test set):\n",
      "Accuracy: 0.9498\n",
      "Classification Report:\n",
      "              precision    recall  f1-score   support\n",
      "\n",
      "           0       0.98      0.96      0.97     16943\n",
      "           1       0.71      0.85      0.77      1880\n",
      "\n",
      "    accuracy                           0.95     18823\n",
      "   macro avg       0.84      0.91      0.87     18823\n",
      "weighted avg       0.96      0.95      0.95     18823\n",
      "\n"
     ]
    },
    {
     "data": {
      "image/png": "[encoded data removed]",
      "text/plain": [
       "<Figure size 800x400 with 2 Axes>"
      ]
     },
     "metadata": {},
     "output_type": "display_data"
    }
   ],
   "source": [
    "print(\"ONNX Model Predictions (full test set):\")\n",
    "test_sample = X_test.copy().values\n",
    "best_individual = [3, 75, 64, 6, 98, 94, 4, 71]\n",
    "test_sample[:,0] = best_individual[0]\n",
    "test_sample[:,4] = best_individual[4]\n",
    "test_sample[:,5] = best_individual[5]\n",
    "test_sample[:,6] = best_individual[6]\n",
    "full_predictions = onnx_inference(model_path, test_sample)\n",
    "try:\n",
    "    print(f\"Accuracy: {accuracy_score(y_test, full_predictions):.4f}\")\n",
    "    print(classification_report(y_test, full_predictions))\n",
    "    \n",
    "    cm = confusion_matrix(y_test, full_predictions)\n",
    "    plt.figure(figsize=(8,4))\n",
    "    sns.heatmap(cm, annot=True, fmt='d', cmap='Blues')\n",
    "    plt.xlabel('Predicted Labels')\n",
    "    plt.ylabel('True Labels')\n",
    "    plt.title('Confusion Matrix')\n",
    "    plt.show()\n",
    "except Exception as e:\n",
    "    print(f\"Error during ONNX prediction: {e}\")"
   ]
  }
 ],
 "metadata": {
  "kernelspec": {
   "display_name": ".venv",
   "language": "python",
   "name": "python3"
  },
  "language_info": {
   "codemirror_mode": {
    "name": "ipython",
    "version": 3
   },
   "file_extension": ".py",
   "mimetype": "text/x-python",
   "name": "python",
   "nbconvert_exporter": "python",
   "pygments_lexer": "ipython3",
   "version": "3.12.0"
  }
 },
 "nbformat": 4,
 "nbformat_minor": 2
}
