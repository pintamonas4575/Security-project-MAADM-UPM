{
 "cells": [
  {
   "cell_type": "markdown",
   "metadata": {},
   "source": [
    "# Seguridad y Privacidad de los Datos - 2024/25"
   ]
  },
  {
   "cell_type": "code",
   "execution_count": 22,
   "metadata": {},
   "outputs": [],
   "source": [
    "import os\n",
    "import random\n",
    "import copy\n",
    "import time\n",
    "import torch\n",
    "import numpy as np\n",
    "import pandas as pd\n",
    "import onnxruntime as rt\n",
    "import xgboost as xgb\n",
    "import seaborn as sns\n",
    "import matplotlib.pyplot as plt\n",
    "from torch import nn\n",
    "from tqdm import tqdm\n",
    "from torch.utils.data import DataLoader, Dataset\n",
    "from sklearn.model_selection import train_test_split\n",
    "from sklearn.metrics import classification_report, confusion_matrix, accuracy_score"
   ]
  },
  {
   "cell_type": "code",
   "execution_count": 23,
   "metadata": {},
   "outputs": [
    {
     "name": "stdout",
     "output_type": "stream",
     "text": [
      "Using device: cuda\n"
     ]
    }
   ],
   "source": [
    "device = \"cuda\" if torch.cuda.is_available() else \"cpu\"\n",
    "print(\"Using device:\", device)\n",
    "\n",
    "df = pd.read_csv('data/malware_dataset.csv')\n",
    "df = df.drop([\"timestamp\", 'unused_permissions', \"sha256\"], axis=1)\n",
    "\n",
    "X_train, X_test, y_train, y_test = train_test_split(df.drop('label', axis=1), df['label'], test_size=0.1, random_state=42)"
   ]
  },
  {
   "cell_type": "code",
   "execution_count": 31,
   "metadata": {},
   "outputs": [],
   "source": [
    "# from ydata_profiling import ProfileReport\n",
    "\n",
    "# df = pd.read_csv('malware_dataset.csv')\n",
    "# profile = ProfileReport(df, title='Malware Dataset Report')\n",
    "# profile.to_file(\"malware_report.html\")"
   ]
  },
  {
   "cell_type": "markdown",
   "metadata": {},
   "source": [
    "# 0. Train the model on the provided dataset"
   ]
  },
  {
   "cell_type": "markdown",
   "metadata": {},
   "source": [
    "## **XGBoost**"
   ]
  },
  {
   "cell_type": "code",
   "execution_count": 3,
   "metadata": {},
   "outputs": [
    {
     "name": "stdout",
     "output_type": "stream",
     "text": [
      "Accuracy:  0.9779528953426598\n",
      "              precision    recall  f1-score   support\n",
      "\n",
      "           0       0.98      0.99      0.99     10145\n",
      "           1       0.93      0.85      0.89      1149\n",
      "\n",
      "    accuracy                           0.98     11294\n",
      "   macro avg       0.96      0.92      0.94     11294\n",
      "weighted avg       0.98      0.98      0.98     11294\n",
      "\n"
     ]
    }
   ],
   "source": [
    "# params: https://xgboost.readthedocs.io/en/stable/python/python_api.html#xgboost.XGBClassifier\n",
    "xgboost_model = xgb.XGBClassifier(objective='binary:logistic')\n",
    "\n",
    "xgboost_model.fit(X_train, y_train)\n",
    "y_pred = xgboost_model.predict(X_test)\n",
    "\n",
    "print(\"Accuracy: \", accuracy_score(y_test, y_pred))\n",
    "print(classification_report(y_test, y_pred))\n",
    "\n",
    "xgboost_model.save_model('malware_xgboost_model.json')"
   ]
  },
  {
   "cell_type": "code",
   "execution_count": 4,
   "metadata": {},
   "outputs": [
    {
     "data": {
      "image/png": "[encoded data removed]",
      "text/plain": [
       "<Figure size 800x400 with 2 Axes>"
      ]
     },
     "metadata": {},
     "output_type": "display_data"
    }
   ],
   "source": [
    "cm = confusion_matrix(y_test, y_pred)\n",
    "plt.figure(figsize=(8,4))\n",
    "sns.heatmap(cm, annot=True, fmt='d', cmap='Blues')\n",
    "plt.xlabel('Predicted Labels')\n",
    "plt.ylabel('True Labels')\n",
    "plt.title('Confusion Matrix')\n",
    "plt.show()"
   ]
  },
  {
   "cell_type": "code",
   "execution_count": 5,
   "metadata": {},
   "outputs": [
    {
     "name": "stdout",
     "output_type": "stream",
     "text": [
      "Accuracy:  0.9779528953426598\n"
     ]
    }
   ],
   "source": [
    "test_xgboost_model = xgb.XGBClassifier()\n",
    "test_xgboost_model.load_model('malware_xgboost_model.json')\n",
    "\n",
    "y_pred2 = xgboost_model.predict(X_test)\n",
    "print(\"Accuracy: \", accuracy_score(y_test, y_pred2))"
   ]
  },
  {
   "cell_type": "markdown",
   "metadata": {},
   "source": [
    "## **Neural Network**"
   ]
  },
  {
   "cell_type": "code",
   "execution_count": 24,
   "metadata": {},
   "outputs": [],
   "source": [
    "class Model(nn.Module):\n",
    "    def __init__(self):\n",
    "        super(Model, self).__init__()\n",
    "        self.fc1 = nn.Linear(354, 64)\n",
    "        self.fc2 = nn.Linear(64, 2)\n",
    "        self.relu = nn.ReLU()\n",
    "    def forward(self, x):\n",
    "        x = self.fc1(x)\n",
    "        x = self.relu(x)\n",
    "        x = self.fc2(x)\n",
    "        return x\n",
    "class CustomDataset(Dataset):\n",
    "    def __init__(self, data, labels):\n",
    "        self.data = data\n",
    "        self.labels = labels\n",
    "\n",
    "    def __len__(self):\n",
    "        return len(self.data)\n",
    "\n",
    "    def __getitem__(self, idx):\n",
    "        return torch.tensor(self.data[idx], dtype=torch.float32), torch.tensor(self.labels[idx], dtype=torch.long)"
   ]
  },
  {
   "cell_type": "code",
   "execution_count": 7,
   "metadata": {},
   "outputs": [
    {
     "name": "stderr",
     "output_type": "stream",
     "text": [
      "Training: 100%|██████████| 1059/1059 [00:04<00:00, 232.05it/s]\n",
      "Testing: 100%|██████████| 118/118 [00:00<00:00, 327.11it/s]\n"
     ]
    },
    {
     "name": "stdout",
     "output_type": "stream",
     "text": [
      "Epoch 1/10, Accuracy: 95.90%\n"
     ]
    },
    {
     "name": "stderr",
     "output_type": "stream",
     "text": [
      "Training: 100%|██████████| 1059/1059 [00:04<00:00, 242.18it/s]\n",
      "Testing: 100%|██████████| 118/118 [00:00<00:00, 328.60it/s]\n"
     ]
    },
    {
     "name": "stdout",
     "output_type": "stream",
     "text": [
      "Epoch 2/10, Accuracy: 95.58%\n"
     ]
    },
    {
     "name": "stderr",
     "output_type": "stream",
     "text": [
      "Training: 100%|██████████| 1059/1059 [00:04<00:00, 248.82it/s]\n",
      "Testing: 100%|██████████| 118/118 [00:00<00:00, 373.41it/s]\n"
     ]
    },
    {
     "name": "stdout",
     "output_type": "stream",
     "text": [
      "Epoch 3/10, Accuracy: 96.28%\n"
     ]
    },
    {
     "name": "stderr",
     "output_type": "stream",
     "text": [
      "Training: 100%|██████████| 1059/1059 [00:04<00:00, 256.44it/s]\n",
      "Testing: 100%|██████████| 118/118 [00:00<00:00, 323.59it/s]\n"
     ]
    },
    {
     "name": "stdout",
     "output_type": "stream",
     "text": [
      "Epoch 4/10, Accuracy: 96.39%\n"
     ]
    },
    {
     "name": "stderr",
     "output_type": "stream",
     "text": [
      "Training: 100%|██████████| 1059/1059 [00:04<00:00, 258.59it/s]\n",
      "Testing: 100%|██████████| 118/118 [00:00<00:00, 539.93it/s]\n"
     ]
    },
    {
     "name": "stdout",
     "output_type": "stream",
     "text": [
      "Epoch 5/10, Accuracy: 96.53%\n"
     ]
    },
    {
     "name": "stderr",
     "output_type": "stream",
     "text": [
      "Training: 100%|██████████| 1059/1059 [00:03<00:00, 288.22it/s]\n",
      "Testing: 100%|██████████| 118/118 [00:00<00:00, 568.56it/s]\n"
     ]
    },
    {
     "name": "stdout",
     "output_type": "stream",
     "text": [
      "Epoch 6/10, Accuracy: 96.63%\n"
     ]
    },
    {
     "name": "stderr",
     "output_type": "stream",
     "text": [
      "Training: 100%|██████████| 1059/1059 [00:03<00:00, 291.58it/s]\n",
      "Testing: 100%|██████████| 118/118 [00:00<00:00, 531.85it/s]\n"
     ]
    },
    {
     "name": "stdout",
     "output_type": "stream",
     "text": [
      "Epoch 7/10, Accuracy: 96.60%\n"
     ]
    },
    {
     "name": "stderr",
     "output_type": "stream",
     "text": [
      "Training: 100%|██████████| 1059/1059 [00:03<00:00, 296.55it/s]\n",
      "Testing: 100%|██████████| 118/118 [00:00<00:00, 521.30it/s]\n"
     ]
    },
    {
     "name": "stdout",
     "output_type": "stream",
     "text": [
      "Epoch 8/10, Accuracy: 96.61%\n"
     ]
    },
    {
     "name": "stderr",
     "output_type": "stream",
     "text": [
      "Training: 100%|██████████| 1059/1059 [00:03<00:00, 282.87it/s]\n",
      "Testing: 100%|██████████| 118/118 [00:00<00:00, 551.16it/s]\n"
     ]
    },
    {
     "name": "stdout",
     "output_type": "stream",
     "text": [
      "Epoch 9/10, Accuracy: 96.67%\n"
     ]
    },
    {
     "name": "stderr",
     "output_type": "stream",
     "text": [
      "Training: 100%|██████████| 1059/1059 [00:03<00:00, 278.03it/s]\n",
      "Testing: 100%|██████████| 118/118 [00:00<00:00, 497.03it/s]"
     ]
    },
    {
     "name": "stdout",
     "output_type": "stream",
     "text": [
      "Epoch 10/10, Accuracy: 96.98%\n"
     ]
    },
    {
     "name": "stderr",
     "output_type": "stream",
     "text": [
      "\n"
     ]
    }
   ],
   "source": [
    "model = Model().to(device)\n",
    "dataloader_train = DataLoader(CustomDataset(X_train.values, y_train.values), batch_size=64, shuffle=True)\n",
    "dataloader_test = DataLoader(CustomDataset(X_test.values, y_test.values), batch_size=64, shuffle=False)\n",
    "\n",
    "EPOCHS = 10\n",
    "optimizer = torch.optim.Adam(model.parameters(), lr=0.001)\n",
    "criterion = nn.CrossEntropyLoss()\n",
    "for epoch in range(EPOCHS):\n",
    "    model.train()\n",
    "    for data, labels in tqdm(dataloader_train, desc=\"Training\", total=len(dataloader_train)):\n",
    "        optimizer.zero_grad()\n",
    "        data, labels = data.to(device), labels.to(device)\n",
    "        outputs = model(data)\n",
    "        loss = criterion(outputs, labels)\n",
    "        loss.backward()\n",
    "        optimizer.step()\n",
    "\n",
    "    correct = 0\n",
    "    total = 0\n",
    "    for data, labels in tqdm(dataloader_test, desc=\"Testing\", total=len(dataloader_test)):\n",
    "        data, labels = data.to(device), labels.to(device)\n",
    "        outputs = model(data)\n",
    "        loss = criterion(outputs, labels)\n",
    "        _, predicted = torch.max(outputs.data, 1)\n",
    "        correct += (predicted == labels).sum().item()\n",
    "        total += labels.size(0)\n",
    "    print(f\"Epoch {epoch+1}/{EPOCHS}, Accuracy: {100 * correct / total:.2f}%\")"
   ]
  },
  {
   "cell_type": "code",
   "execution_count": 8,
   "metadata": {},
   "outputs": [
    {
     "name": "stdout",
     "output_type": "stream",
     "text": [
      "torch.Size([64, 2])\n"
     ]
    }
   ],
   "source": [
    "torch.save(model, 'malware_NN_model.pt')\n",
    "model = torch.load('malware_NN_model.pt', weights_only=False)\n",
    "\n",
    "# Test inference with a batch from the test dataloader\n",
    "inputs, targets = next(iter(dataloader_test))\n",
    "inputs = inputs.to(device)\n",
    "outputs = model(inputs)\n",
    "print(outputs.shape)"
   ]
  },
  {
   "cell_type": "markdown",
   "metadata": {},
   "source": [
    "# 1. Perform at least one black-box attack and one white-box attack on the model. You may perform additional attacks as desired."
   ]
  },
  {
   "cell_type": "markdown",
   "metadata": {},
   "source": [
    "## Black box attack"
   ]
  },
  {
   "cell_type": "code",
   "execution_count": 13,
   "metadata": {},
   "outputs": [
    {
     "name": "stdout",
     "output_type": "stream",
     "text": [
      "Accuracy: 0.9925086249383933\n"
     ]
    }
   ],
   "source": [
    "test_xgboost_model = xgb.XGBClassifier()\n",
    "test_xgboost_model.load_model('malware_xgboost_model.json')\n",
    "x_no_attack = X_test[y_test == 0]\n",
    "y_no_attack = y_test[y_test == 0]\n",
    "\n",
    "ypred = test_xgboost_model.predict(np.array(x_no_attack))\n",
    "ypred = [1 if x > 0.5 else 0 for x in ypred]\n",
    "print(f\"Accuracy: {accuracy_score(y_no_attack, ypred)}\")"
   ]
  },
  {
   "cell_type": "code",
   "execution_count": 17,
   "metadata": {},
   "outputs": [
    {
     "name": "stderr",
     "output_type": "stream",
     "text": [
      "Iterating over activities count: 100%|██████████| 1999/1999 [01:14<00:00, 26.73it/s]\n"
     ]
    }
   ],
   "source": [
    "lista = []\n",
    "\n",
    "for i in tqdm(range(1,2000), desc='Iterating over activities count'):\n",
    "    no_attacks_changed = x_no_attack.copy()\n",
    "    no_attacks_changed['activities_count'] = i\n",
    "    ypred = test_xgboost_model.predict(np.array(x_no_attack))\n",
    "    ypred = [1 if x > 0.5 else 0 for x in ypred]\n",
    "    lista.append(accuracy_score(y_no_attack, ypred))"
   ]
  },
  {
   "cell_type": "code",
   "execution_count": null,
   "metadata": {},
   "outputs": [
    {
     "name": "stdout",
     "output_type": "stream",
     "text": [
      "Num gen: 0, Fitness óptimo: 0.27480409084871826\n",
      "Mejor individuo: [4, 97, 75, 79, 68, 87, 92, 84]\n",
      "Num gen: 1, Fitness óptimo: 0.27480409084871826\n",
      "Mejor individuo: [4, 97, 75, 79, 68, 87, 92, 84]\n",
      "Num gen: 2, Fitness óptimo: 0.17997077965201222\n",
      "Mejor individuo: [4, 97, 75, 79, 68, 87, 14, 15]\n",
      "Num gen: 3, Fitness óptimo: 0.17997077965201222\n",
      "Mejor individuo: [4, 97, 75, 79, 68, 87, 14, 15]\n",
      "Num gen: 4, Fitness óptimo: 0.17997077965201222\n",
      "Mejor individuo: [4, 97, 75, 79, 68, 87, 14, 15]\n",
      "Num gen: 5, Fitness óptimo: 0.1708062159649356\n",
      "Mejor individuo: [4, 58, 75, 79, 68, 95, 14, 15]\n",
      "Num gen: 6, Fitness óptimo: 0.1569929605525302\n",
      "Mejor individuo: [4, 97, 75, 68, 79, 87, 14, 15]\n",
      "Num gen: 7, Fitness óptimo: 0.14849249568335768\n",
      "Mejor individuo: [4, 58, 75, 68, 79, 95, 14, 15]\n",
      "Num gen: 8, Fitness óptimo: 0.14849249568335768\n",
      "Mejor individuo: [4, 58, 75, 68, 79, 95, 14, 15]\n",
      "Num gen: 9, Fitness óptimo: 0.14397662372160977\n",
      "Mejor individuo: [4, 58, 75, 68, 95, 79, 14, 15]\n",
      "*******Tiempo transcurrido: 0 minutos y 44.33 segundos*******\n"
     ]
    }
   ],
   "source": [
    "n_individuals = 100\n",
    "n_generations = 10\n",
    "mutation_rate = 0.1\n",
    "population = np.random.randint(0, 2000, size=(n_individuals, 8))\n",
    "\n",
    "class Genetic():\n",
    "    def __init__(self, population_size: int, model, y_test, X_test):\n",
    "        self.population = np.random.randint(0, 100, size=(population_size, 8)).tolist()\n",
    "        self.fitnesses = []\n",
    "        self.model = model\n",
    "        self.y_test = y_test\n",
    "        self.X_test = X_test\n",
    "\n",
    "    def fitness(self, individual):\n",
    "        test = self.X_test.copy()\n",
    "        test[:,0] = individual[0]\n",
    "        # test[:,1] = individual[1]\n",
    "        # test[:,2] = individual[2]\n",
    "        # test[:,3] = individual[3]\n",
    "        test[:,4] = individual[4]\n",
    "        test[:,5] = individual[5]\n",
    "        test[:,6] = individual[6]\n",
    "        # test[:,7] = individual[7]\n",
    "        test = torch.tensor(test, dtype=torch.float32).to(device)\n",
    "        predictions = self.model(test.to(device))\n",
    "        predictions = torch.argmax(predictions, dim=1)\n",
    "        predictions = predictions.cpu().numpy()\n",
    "        return accuracy_score(self.y_test, predictions)\n",
    "\n",
    "    def sort_pop(self, reversed: bool) -> tuple[list[list], list]:\n",
    "        \"\"\"Sort population by fitness function. Return tuple with population list and fitness list\"\"\"\n",
    "\n",
    "        fitness_list = [self.fitness(ind) for ind in self.population]\n",
    "        lista = sorted(zip(self.population, fitness_list), key=lambda x: x[1], reverse=reversed)\n",
    "        self.population = [x[0] for x in lista]\n",
    "        self.fitnesses = [x[1] for x in lista]\n",
    "\n",
    "    def select(self, T: int) -> list:\n",
    "        \"\"\"Return a copy of an individual by tournament selection. Population already ordered by fitness\"\"\"\n",
    "        \n",
    "        indices = random.choices(range(len(self.population)), k=T)\n",
    "        best_index = min(indices)  # since population is ordered by fitness\n",
    "        return copy.deepcopy(self.population[best_index])\n",
    "\n",
    "    def mutate(self,individual: list[list], pmut: float) -> list:\n",
    "        \"\"\"Mutate an individual, swap elements. Return mutated individual\"\"\"\n",
    "\n",
    "        def mutate_swap(individual: list[list], pmut: float) -> list[list]:\n",
    "            if random.random() < pmut:\n",
    "                index1, index2 = random.choices(range(len(individual)), k=2)\n",
    "                individual[index1], individual[index2] = individual[index2], individual[index1]\n",
    "            return individual\n",
    "\n",
    "        def mutate_insert(individual: list[list], pmut: float) -> list[list]:\n",
    "            if random.random() < pmut:\n",
    "                index_pop, index_insert = random.choices(range(len(individual)), k=2)\n",
    "                value = individual.pop(index_pop)\n",
    "                individual.insert(index_insert, value)\n",
    "            return individual\n",
    "\n",
    "        def mutate_reverse(individual: list[list], pmut: float) -> list[list]: \n",
    "            if random.random() < pmut:\n",
    "                index1, index2 = sorted(random.sample(range(len(individual)), 2))\n",
    "                individual[index1:index2 + 1] = individual[index1:index2 + 1][::-1]\n",
    "            return individual\n",
    "        def mutate_random(individual: list[list], pmut: float) -> list[list]:\n",
    "            if random.random()<pmut:\n",
    "                for index in range(len(individual)):\n",
    "                    if random.random() < pmut:\n",
    "                        individual[index] =  np.random.randint(0,100)\n",
    "            return individual\n",
    "        \n",
    "        mutations = [mutate_swap, mutate_insert, mutate_reverse,mutate_random]\n",
    "        operator = random.choice(mutations)\n",
    "        return operator(individual, pmut)\n",
    "\n",
    "    def evolve(self, pmut=0.1, ngen=100, T=2, trace=50, reverse_sort=False, elitism=True) -> None:\n",
    "        \"\"\"Evolution procedure\"\"\"\n",
    "        \n",
    "        size = len(self.population)\n",
    "        for i in range(ngen):\n",
    "            new_pop = []\n",
    "            self.sort_pop(reverse_sort)\n",
    "            if elitism:\n",
    "                new_pop.append(self.population[0])\n",
    "                new_pop.append(self.population[1])\n",
    "            while len(new_pop) != size:   \n",
    "                individual1 = self.select(T)\n",
    "                individual2 = self.select(T)\n",
    "                mutated1 = self.mutate(individual1, pmut)\n",
    "                mutated2 = self.mutate(individual2, pmut)\n",
    "                new_pop.append(mutated1)\n",
    "                new_pop.append(mutated2)\n",
    "            \n",
    "            if i % trace == 0 or i == ngen-1: # en la última gen se ordena\n",
    "                self.sort_pop(reverse_sort)\n",
    "                print(f\"Num gen: {i}, Fitness óptimo: {self.fitnesses[0]}\")\n",
    "                print(f\"Mejor individuo: {self.population[0]}\")\n",
    "            self.population = [*new_pop] # make a copy\n",
    "        return self.population\n",
    "\n",
    "start = time.time()\n",
    "genetic_algorithm = Genetic(population_size=100, model=model, y_test=np.array(y_test), X_test=np.array(X_test)) \n",
    "final_population = genetic_algorithm.evolve(pmut=0.1, ngen=10, T=6, trace=1)\n",
    "minutos, segundos = divmod(time.time()-start, 60)\n",
    "print(f\"*******Tiempo transcurrido: {int(minutos)} minutos y {segundos:.2f} segundos*******\")"
   ]
  },
  {
   "cell_type": "code",
   "execution_count": 22,
   "metadata": {},
   "outputs": [
    {
     "data": {
      "image/png": "[encoded data removed]",
      "text/plain": [
       "<Figure size 800x400 with 2 Axes>"
      ]
     },
     "metadata": {},
     "output_type": "display_data"
    }
   ],
   "source": [
    "best_individual = genetic_algorithm.population[0]\n",
    "test = X_test.copy()\n",
    "test= np.array(test)\n",
    "test[:,0] = best_individual[0]\n",
    "test[:,4] = best_individual[4]\n",
    "test[:,5] = best_individual[5]\n",
    "test[:,6] = best_individual[6]\n",
    "\n",
    "test = torch.tensor(test, dtype=torch.float32).to(device)\n",
    "predictions = model(test.to(device))\n",
    "predictions = torch.argmax(predictions, dim=1)\n",
    "predictions = predictions.cpu().numpy()\n",
    "cm = confusion_matrix(y_test, predictions)\n",
    "plt.figure(figsize=(8,4))\n",
    "sns.heatmap(cm, annot=True, fmt='d', cmap='Blues')\n",
    "plt.xlabel('Predicted Labels')\n",
    "plt.ylabel('True Labels')\n",
    "plt.title('Confusion Matrix')\n",
    "plt.show()"
   ]
  },
  {
   "cell_type": "markdown",
   "metadata": {},
   "source": [
    "## White Box attack"
   ]
  },
  {
   "cell_type": "code",
   "execution_count": 100,
   "metadata": {},
   "outputs": [
    {
     "name": "stdout",
     "output_type": "stream",
     "text": [
      "Using device: cuda\n"
     ]
    }
   ],
   "source": [
    "device = \"cuda\" if torch.cuda.is_available() else \"cpu\"\n",
    "print(\"Using device:\", device)\n",
    "\n",
    "df = pd.read_csv('data/malware_dataset.csv')\n",
    "df = df.drop([\"timestamp\", 'unused_permissions', \"sha256\"], axis=1)\n",
    "\n",
    "X_train, X_test, y_train, y_test = train_test_split(df.drop('label', axis=1), df['label'], test_size=0.1, random_state=42)\n",
    "X_test = torch.tensor(X_test.values, dtype=torch.float32).to(device)\n",
    "y_test = torch.tensor(y_test.values, dtype=torch.float32).to(device)\n",
    "\n",
    "whitebox_model = torch.load('malware_NN_model.pt', weights_only=False).to(device)\n",
    "whitebox_model.eval()\n",
    "criterion = nn.CrossEntropyLoss()"
   ]
  },
  {
   "cell_type": "markdown",
   "metadata": {},
   "source": [
    "### FGSM no dirigido"
   ]
  },
  {
   "cell_type": "code",
   "execution_count": null,
   "metadata": {},
   "outputs": [],
   "source": [
    "def fgsm_attack(model: Model, X_test: torch.Tensor, y_true: torch.Tensor, epsilon: float = 0.05) -> torch.Tensor:\n",
    "  \"\"\"\n",
    "  Genera ejemplo adversario no dirigido:\n",
    "    x_adv = X_test + eps * sign(grad_x Loss(model(X_test), y_true))\n",
    "  \"\"\"\n",
    "  x_adv = X_test.clone().detach().requires_grad_(True)  # trabajamos sobre copia\n",
    "  output = model(x_adv)\n",
    "  loss = criterion(output, y_true)\n",
    "\n",
    "  # Gradiente respecto a la *entrada*\n",
    "  loss.backward()\n",
    "  grad_sign = x_adv.grad.sign()\n",
    "\n",
    "  # Paso de perturbación\n",
    "  x_adv = x_adv + epsilon * grad_sign\n",
    "  return x_adv.detach()"
   ]
  },
  {
   "cell_type": "code",
   "execution_count": 90,
   "metadata": {},
   "outputs": [
    {
     "name": "stdout",
     "output_type": "stream",
     "text": [
      "Original output: [[ 1.7606734 -2.4261498]]\n",
      "Adversarial output: [[ 17.994717 -19.521015]]\n",
      "Max perturbation (L∞): 0.20000076293945312\n"
     ]
    }
   ],
   "source": [
    "# Take a single sample from \n",
    "sample_index = 15\n",
    "sample = X_test[sample_index].unsqueeze(0)  # shape becomes (1, 354)\n",
    "sample_label = y_test[sample_index].unsqueeze(0)\n",
    "\n",
    "# Generate the adversarial example using FGSM\n",
    "sample_adv = fgsm_attack(whitebox_model, sample, sample_label, epsilon=0.2)\n",
    "\n",
    "print(\"Original output:\", whitebox_model(sample).detach().cpu().numpy())\n",
    "print(\"Adversarial output:\", whitebox_model(sample_adv).detach().cpu().numpy())\n",
    "print(\"Max perturbation (L∞):\", (sample_adv - sample).abs().max().item())"
   ]
  },
  {
   "cell_type": "markdown",
   "metadata": {},
   "source": [
    "---"
   ]
  },
  {
   "cell_type": "code",
   "execution_count": null,
   "metadata": {},
   "outputs": [
    {
     "name": "stdout",
     "output_type": "stream",
     "text": [
      "Accuracy on original test data: 0.9698499136671537\n"
     ]
    }
   ],
   "source": [
    "# FUNCIONA\n",
    "# original test set\n",
    "with torch.no_grad():\n",
    "    outputs_orig = whitebox_model(X_test)\n",
    "    preds_orig = torch.argmax(outputs_orig, dim=1)\n",
    "original_acc = accuracy_score(y_test.cpu().numpy(), preds_orig.cpu().numpy())\n",
    "print(\"Accuracy on original test data:\", original_acc)"
   ]
  },
  {
   "cell_type": "code",
   "execution_count": null,
   "metadata": {},
   "outputs": [],
   "source": [
    "# TODO: no funciona el cambiar el test set entero, sólo una fila\n",
    "def fgsm_attack(model: Model, X_test: torch.Tensor, y_true: torch.Tensor, epsilon: float = 0.05) -> torch.Tensor:\n",
    "  \"\"\"\n",
    "  Genera ejemplo adversario no dirigido:\n",
    "    x_adv = X_test + eps * sign(grad_x Loss(model(X_test), y_true))\n",
    "  \"\"\"\n",
    "  x_adv = X_test.clone().detach().requires_grad_(True)  # trabajamos sobre copia\n",
    "  output = model(x_adv)\n",
    "  loss = criterion(output, y_true)\n",
    "  loss.backward()\n",
    "  grad_sign = x_adv.grad.sign()\n",
    "\n",
    "  x_adv = x_adv + epsilon * grad_sign\n",
    "  return x_adv.detach()\n",
    "\n",
    "X_test_adv = fgsm_attack(whitebox_model, X_test, y_test, epsilon=0.2)\n",
    "\n",
    "# adversarial test set\n",
    "with torch.no_grad():\n",
    "    outputs_adv = whitebox_model(X_test_adv)\n",
    "    preds_adv = torch.argmax(outputs_adv, dim=1)\n",
    "adv_acc = accuracy_score(y_test.cpu().numpy(), preds_adv.cpu().numpy())\n",
    "print(\"Accuracy on adversarial test data:\", adv_acc)"
   ]
  },
  {
   "cell_type": "markdown",
   "metadata": {},
   "source": [
    "### Ataque FGSM dirigido\n",
    "### Proyectar o iterar (PGD)\n",
    "### Ataque de Carlini y Wagner (C&W)\n",
    "### Ataque de Jacobian Saliency Map (JSMA)\n",
    "### Ataque de DeepFool\n",
    "### Ataque de Universal Perturbation\n",
    "### Ataque de Adversarial Patch\n",
    "### Ataque de Adversarial Noise"
   ]
  },
  {
   "cell_type": "code",
   "execution_count": null,
   "metadata": {},
   "outputs": [
    {
     "name": "stdout",
     "output_type": "stream",
     "text": [
      "Original prediction: 0\n",
      "Adversarial prediction: 0\n"
     ]
    }
   ],
   "source": [
    "import torch.optim as optim\n",
    "\n",
    "def cw_attack(model, x, y, c=1e-3, lr=0.01, num_iterations=1000, kappa=0.0) -> torch.Tensor:\n",
    "    \"\"\"\n",
    "    Carlini & Wagner untargeted attack (L2) for a single sample.\n",
    "    \n",
    "    Args:\n",
    "      model: the neural network model returning logits.\n",
    "      x: input sample (shape: [1, features]).\n",
    "      y: true label as a tensor (e.g. tensor([0])).\n",
    "      c: trade-off constant.\n",
    "      lr: learning rate.\n",
    "      num_iterations: number of optimization steps.\n",
    "      kappa: confidence parameter.\n",
    "      \n",
    "    Returns:\n",
    "      Adversarial example (x_adv) if found.\n",
    "    \"\"\"\n",
    "    # Initialize the perturbation\n",
    "    delta = torch.zeros_like(x, requires_grad=True)\n",
    "    optimizer = optim.Adam([delta], lr=lr)\n",
    "    best_loss = float('inf')\n",
    "    best_adv = None\n",
    "    y_int = int(y.item())\n",
    "    \n",
    "    for i in range(num_iterations):\n",
    "        adv = x + delta\n",
    "        logits = model(adv)\n",
    "        # logit for the true label\n",
    "        real = logits[0, y_int]\n",
    "        # maximum logit among the other classes\n",
    "        other_logits = torch.cat([logits[0, :y_int], logits[0, y_int+1:]])\n",
    "        max_other = torch.max(other_logits)\n",
    "        # f function as in the paper: ideally f(adv) <= 0 means successful attack.\n",
    "        f_val = torch.max(max_other - real, torch.tensor(-kappa, device=x.device))\n",
    "        # L2 norm squared loss on the perturbation\n",
    "        loss = torch.norm(delta)**2 + c * f_val\n",
    "        \n",
    "        optimizer.zero_grad()\n",
    "        loss.backward()\n",
    "        optimizer.step()\n",
    "        \n",
    "        # Save best adversarial example if loss is improved and f_val <= 0 (i.e. attack is successful)\n",
    "        if loss.item() < best_loss and f_val.item() <= 0:\n",
    "            best_loss = loss.item()\n",
    "            best_adv = adv.detach()\n",
    "    \n",
    "    if best_adv is None:\n",
    "        best_adv = (x + delta).detach()\n",
    "    return best_adv\n",
    "\n",
    "sample_index = 45\n",
    "sample = X_test[sample_index].unsqueeze(0)  # shape becomes (1, 354)\n",
    "sample_label = y_test[sample_index].unsqueeze(0)\n",
    "\n",
    "adv_example = cw_attack(whitebox_model, sample, sample_label, c=1e-3, lr=0.01, num_iterations=1000, kappa=0.0)\n",
    "\n",
    "print(\"Original prediction:\", torch.argmax(whitebox_model(sample), dim=1).item())\n",
    "print(\"Adversarial prediction:\", torch.argmax(whitebox_model(adv_example), dim=1).item())"
   ]
  },
  {
   "cell_type": "markdown",
   "metadata": {},
   "source": [
    "# 2. Prove that your model can be more robust to adversarial examples"
   ]
  },
  {
   "cell_type": "markdown",
   "metadata": {},
   "source": [
    "Demonstrate that your model maintains high accuracy when subjected to adversarial examples. Provide empirical evidence of robustness by evaluating performance under adversarial attacks.\n",
    "\n",
    "What Will Be Valued:\n",
    "- Effective adversarial attack methods and proper defense mechanisms.\n",
    "- Clear evaluation metrics comparing standard vs. adversarial performance.\n",
    "- Well-documented methodology and reproducibility of results."
   ]
  },
  {
   "cell_type": "code",
   "execution_count": null,
   "metadata": {},
   "outputs": [],
   "source": []
  },
  {
   "cell_type": "markdown",
   "metadata": {},
   "source": [
    "# 3. Try to attack this model"
   ]
  },
  {
   "cell_type": "markdown",
   "metadata": {},
   "source": [
    "You will be given the anonymous model `android_permission_model.onnx`, previously trained on the provided dataset. \n",
    "Analyze the model’s weaknesses by testing different black-box attack strategies.\n",
    "\n",
    "What Will Be Valued:\n",
    "- Use of diverse adversarial attack techniques.\n",
    "- Quantitative analysis of attack effectiveness with relevant metrics.\n",
    "- Clear documentation of the attack process and reproducibility.\n",
    "\n",
    "Below, you can find an example on model loading and inference. The model expects every column in the dataset except for `sha256`, `timestamp` and `unused_permissions`.\n",
    "The model is loaded in an [onnx runtime](https://onnxruntime.ai/docs/api/python/api_summary.html). "
   ]
  },
  {
   "cell_type": "code",
   "execution_count": 5,
   "metadata": {},
   "outputs": [],
   "source": [
    "DATASET_ROUTE = 'data/malware_dataset.csv'\n",
    "model_path = 'malware_example_model.onnx'\n",
    "\n",
    "df = pd.read_csv(DATASET_ROUTE)\n",
    "\n",
    "# removing unused columns\n",
    "if 'timestamp' in df.columns:\n",
    "    df = df.drop('timestamp', axis=1)\n",
    "if 'unused_permissions' in df.columns:\n",
    "    df = df.drop('unused_permissions', axis=1)\n",
    "if 'sha256' in df.columns:\n",
    "    df = df.drop('sha256', axis=1)\n",
    "\n",
    "# features and target separation + train/test split\n",
    "X = df.drop('label', axis=1)\n",
    "y = df['label']\n",
    "\n",
    "X_train, X_test, y_train, y_test = train_test_split(\n",
    "    X, y, test_size=0.25, random_state=42, stratify=y\n",
    ")"
   ]
  },
  {
   "cell_type": "markdown",
   "metadata": {},
   "source": [
    "Example inference function using [sess.run()](https://onnxruntime.ai/docs/api/python/api_summary.html#onnxruntime.InferenceSession.run):"
   ]
  },
  {
   "cell_type": "code",
   "execution_count": 6,
   "metadata": {},
   "outputs": [],
   "source": [
    "def onnx_inference(model_path: str, test_data: np.ndarray) -> np.ndarray:\n",
    "    \"\"\"\n",
    "    Function to load and make predictions with an ONNX model\n",
    "    \"\"\"\n",
    "    # open ONNX inference session\n",
    "    sess = rt.InferenceSession(model_path)\n",
    "    \n",
    "    # input and output names\n",
    "    input_name = sess.get_inputs()[0].name\n",
    "    output_names = [output.name for output in sess.get_outputs()]\n",
    "    \n",
    "    # send inputs to the model and obtain predictions\n",
    "    results = sess.run(output_names, {input_name: test_data.astype(np.float32)})\n",
    "\n",
    "    return results[0]       # results[0] are discrete predicted labels, while results[1] are probabilities"
   ]
  },
  {
   "cell_type": "code",
   "execution_count": null,
   "metadata": {},
   "outputs": [
    {
     "name": "stdout",
     "output_type": "stream",
     "text": [
      "ONNX Model Predictions (sample):\n",
      "[1 0 0 0 1]\n",
      "Actual labels:\n",
      "[1 0 0 0 0]\n",
      "\n",
      "ONNX Model Predictions (full test set):\n",
      "Accuracy: 0.9815\n",
      "\n",
      "Classification Report:\n",
      "              precision    recall  f1-score   support\n",
      "\n",
      "           0       1.00      0.98      0.99     16943\n",
      "           1       0.86      0.97      0.91      1880\n",
      "\n",
      "    accuracy                           0.98     18823\n",
      "   macro avg       0.93      0.98      0.95     18823\n",
      "weighted avg       0.98      0.98      0.98     18823\n",
      "\n"
     ]
    },
    {
     "data": {
      "image/png": "[encoded data removed]",
      "text/plain": [
       "<Figure size 800x400 with 2 Axes>"
      ]
     },
     "metadata": {},
     "output_type": "display_data"
    }
   ],
   "source": [
    "if not os.path.exists(model_path):\n",
    "    print(f\"Error: Model file '{model_path}' not found!\")\n",
    "    print(f\"Current working directory: {os.getcwd()}\")\n",
    "    print(f\"Files in current directory: {os.listdir('.')}\")\n",
    "else:\n",
    "    # small sample to test if it works\n",
    "    test_sample = X_test.iloc[:5].values\n",
    "    onnx_predictions = onnx_inference(model_path, test_sample) \n",
    "    if onnx_predictions is not None:\n",
    "        print(\"ONNX Model Predictions (sample):\")\n",
    "        print(onnx_predictions)\n",
    "        \n",
    "        # compare with actual labels\n",
    "        actual_labels = y_test.iloc[:5].values\n",
    "        print(\"Actual labels:\")\n",
    "        print(actual_labels)\n",
    "    \n",
    "    # full test set now\n",
    "    print(\"ONNX Model Predictions (full test set):\")\n",
    "    full_predictions = onnx_inference(model_path, X_test.values)\n",
    "    try:\n",
    "        print(f\"Accuracy: {accuracy_score(y_test, full_predictions):.4f}\")\n",
    "        print(\"Classification Report:\")\n",
    "        print(classification_report(y_test, full_predictions))\n",
    "        cm = confusion_matrix(y_test, full_predictions)\n",
    "        plt.figure(figsize=(8,4))\n",
    "        sns.heatmap(cm, annot=True, fmt='d', cmap='Blues')\n",
    "        plt.xlabel('Predicted Labels')\n",
    "        plt.ylabel('True Labels')\n",
    "        plt.title('Confusion Matrix')\n",
    "        plt.show()\n",
    "    except Exception as e:\n",
    "        print(f\"Error during ONNX prediction: {e}\")"
   ]
  },
  {
   "cell_type": "code",
   "execution_count": null,
   "metadata": {},
   "outputs": [],
   "source": []
  }
 ],
 "metadata": {
  "kernelspec": {
   "display_name": ".venv",
   "language": "python",
   "name": "python3"
  },
  "language_info": {
   "codemirror_mode": {
    "name": "ipython",
    "version": 3
   },
   "file_extension": ".py",
   "mimetype": "text/x-python",
   "name": "python",
   "nbconvert_exporter": "python",
   "pygments_lexer": "ipython3",
   "version": "3.12.0"
  }
 },
 "nbformat": 4,
 "nbformat_minor": 2
}
